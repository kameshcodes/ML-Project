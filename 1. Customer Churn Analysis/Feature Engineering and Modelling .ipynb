{
 "cells": [
  {
   "cell_type": "markdown",
   "id": "ffaea231",
   "metadata": {},
   "source": [
    "# Feature Engineering and Modelling on Customer Churn Dataset\n",
    "\n",
    "## Import packages"
   ]
  },
  {
   "cell_type": "code",
   "execution_count": 1,
   "id": "e642dec4",
   "metadata": {},
   "outputs": [],
   "source": [
    "import numpy as np\n",
    "import matplotlib.pyplot as plt\n",
    "import pandas as pd\n",
    "import seaborn as sns\n",
    "import pandas as pd\n",
    "# Set plot style\n",
    "sns.set_style(\"darkgrid\")\n",
    "%matplotlib inline"
   ]
  },
  {
   "cell_type": "markdown",
   "id": "46d4bc69",
   "metadata": {},
   "source": [
    "---\n",
    "# 1. Loading data with Pandas\n",
    "---\n",
    "We need to load `client_data.csv` and `price_data.csv` into individual dataframes so that we can work with them in Python. For this notebook and all further notebooks, it will be assumed that the CSV files will the placed in the same file location as the notebook. If they are not, please adjust the directory within the `read_csv` method accordingly."
   ]
  },
  {
   "cell_type": "code",
   "execution_count": 3,
   "id": "51d06a09",
   "metadata": {},
   "outputs": [],
   "source": [
    "client_df = pd.read_csv('C:/Users/kames/Downloads/ML project/1. Customer Churn Analysis/client_data.csv')\n",
    "price_df = pd.read_csv('C:/Users/kames/Downloads/ML project/1. Customer Churn Analysis/price_data.xls')"
   ]
  },
  {
   "cell_type": "markdown",
   "id": "cb66d842",
   "metadata": {},
   "source": [
    "Lets Explore `price_df` and `client_df` to find how can we merge both datasets."
   ]
  },
  {
   "cell_type": "code",
   "execution_count": 9,
   "id": "8db87091",
   "metadata": {
    "scrolled": true
   },
   "outputs": [
    {
     "data": {
      "text/html": [
       "<div>\n",
       "<style scoped>\n",
       "    .dataframe tbody tr th:only-of-type {\n",
       "        vertical-align: middle;\n",
       "    }\n",
       "\n",
       "    .dataframe tbody tr th {\n",
       "        vertical-align: top;\n",
       "    }\n",
       "\n",
       "    .dataframe thead th {\n",
       "        text-align: right;\n",
       "    }\n",
       "</style>\n",
       "<table border=\"1\" class=\"dataframe\">\n",
       "  <thead>\n",
       "    <tr style=\"text-align: right;\">\n",
       "      <th></th>\n",
       "      <th>id</th>\n",
       "      <th>price_date</th>\n",
       "      <th>price_off_peak_var</th>\n",
       "      <th>price_peak_var</th>\n",
       "      <th>price_mid_peak_var</th>\n",
       "      <th>price_off_peak_fix</th>\n",
       "      <th>price_peak_fix</th>\n",
       "      <th>price_mid_peak_fix</th>\n",
       "    </tr>\n",
       "  </thead>\n",
       "  <tbody>\n",
       "    <tr>\n",
       "      <th>0</th>\n",
       "      <td>038af19179925da21a25619c5a24b745</td>\n",
       "      <td>2015-01-01</td>\n",
       "      <td>0.151367</td>\n",
       "      <td>0.0</td>\n",
       "      <td>0.0</td>\n",
       "      <td>44.266931</td>\n",
       "      <td>0.0</td>\n",
       "      <td>0.0</td>\n",
       "    </tr>\n",
       "    <tr>\n",
       "      <th>1</th>\n",
       "      <td>038af19179925da21a25619c5a24b745</td>\n",
       "      <td>2015-02-01</td>\n",
       "      <td>0.151367</td>\n",
       "      <td>0.0</td>\n",
       "      <td>0.0</td>\n",
       "      <td>44.266931</td>\n",
       "      <td>0.0</td>\n",
       "      <td>0.0</td>\n",
       "    </tr>\n",
       "    <tr>\n",
       "      <th>2</th>\n",
       "      <td>038af19179925da21a25619c5a24b745</td>\n",
       "      <td>2015-03-01</td>\n",
       "      <td>0.151367</td>\n",
       "      <td>0.0</td>\n",
       "      <td>0.0</td>\n",
       "      <td>44.266931</td>\n",
       "      <td>0.0</td>\n",
       "      <td>0.0</td>\n",
       "    </tr>\n",
       "    <tr>\n",
       "      <th>3</th>\n",
       "      <td>038af19179925da21a25619c5a24b745</td>\n",
       "      <td>2015-04-01</td>\n",
       "      <td>0.149626</td>\n",
       "      <td>0.0</td>\n",
       "      <td>0.0</td>\n",
       "      <td>44.266931</td>\n",
       "      <td>0.0</td>\n",
       "      <td>0.0</td>\n",
       "    </tr>\n",
       "    <tr>\n",
       "      <th>4</th>\n",
       "      <td>038af19179925da21a25619c5a24b745</td>\n",
       "      <td>2015-05-01</td>\n",
       "      <td>0.149626</td>\n",
       "      <td>0.0</td>\n",
       "      <td>0.0</td>\n",
       "      <td>44.266931</td>\n",
       "      <td>0.0</td>\n",
       "      <td>0.0</td>\n",
       "    </tr>\n",
       "  </tbody>\n",
       "</table>\n",
       "</div>"
      ],
      "text/plain": [
       "                                 id  price_date  price_off_peak_var  \\\n",
       "0  038af19179925da21a25619c5a24b745  2015-01-01            0.151367   \n",
       "1  038af19179925da21a25619c5a24b745  2015-02-01            0.151367   \n",
       "2  038af19179925da21a25619c5a24b745  2015-03-01            0.151367   \n",
       "3  038af19179925da21a25619c5a24b745  2015-04-01            0.149626   \n",
       "4  038af19179925da21a25619c5a24b745  2015-05-01            0.149626   \n",
       "\n",
       "   price_peak_var  price_mid_peak_var  price_off_peak_fix  price_peak_fix  \\\n",
       "0             0.0                 0.0           44.266931             0.0   \n",
       "1             0.0                 0.0           44.266931             0.0   \n",
       "2             0.0                 0.0           44.266931             0.0   \n",
       "3             0.0                 0.0           44.266931             0.0   \n",
       "4             0.0                 0.0           44.266931             0.0   \n",
       "\n",
       "   price_mid_peak_fix  \n",
       "0                 0.0  \n",
       "1                 0.0  \n",
       "2                 0.0  \n",
       "3                 0.0  \n",
       "4                 0.0  "
      ]
     },
     "execution_count": 9,
     "metadata": {},
     "output_type": "execute_result"
    }
   ],
   "source": [
    "price_df.head()"
   ]
  },
  {
   "cell_type": "markdown",
   "id": "f504c823",
   "metadata": {},
   "source": [
    "`price_df` is monthly data. We must find how how many months of data we have for each user."
   ]
  },
  {
   "cell_type": "code",
   "execution_count": 10,
   "id": "813d930a",
   "metadata": {},
   "outputs": [
    {
     "data": {
      "text/plain": [
       "038af19179925da21a25619c5a24b745    12\n",
       "97589d95ec46ab31ef238d18a616403f    12\n",
       "97adbcd721fae4874f7ee287ea84200d    12\n",
       "d74b4544363be674855cf931b6b8af25    12\n",
       "27276020e48d73f589788d4e37c51879    12\n",
       "                                    ..\n",
       "83cf18b07114e495ae8b7fb235e45ee2     8\n",
       "3e459d61dc831e29f8a9a9a59f95efd2     8\n",
       "c5dcd5c506e565aaabffa29bc1ec0a37     7\n",
       "bf89f2d8c1b133a134fd93603cb4c947     7\n",
       "15b36e47cf04bf151e3f4438d12672e5     7\n",
       "Name: id, Length: 16096, dtype: int64"
      ]
     },
     "execution_count": 10,
     "metadata": {},
     "output_type": "execute_result"
    }
   ],
   "source": [
    "price_df.id.value_counts()"
   ]
  },
  {
   "cell_type": "markdown",
   "id": "e6f1f9b6",
   "metadata": {},
   "source": [
    "It can be seen that we have 12 months of data for every user and there are few user who might have chruned in between so for them we have data for less than 12 months.\n",
    "\n",
    "Now, since the price information is monthly, we can't able to merge it directly with the client data. Some feature transformations need to be done to derive the yearly prices.\n",
    "- The off-peak and mid-peak of energy follow a linear flow, so we can take the average of the monthly prices. \n",
    "- The energy off-peak price was high at the beginning of the year and low at the end of the year. So we take the price difference as a consolidated value."
   ]
  },
  {
   "cell_type": "code",
   "execution_count": null,
   "id": "3655696c",
   "metadata": {},
   "outputs": [],
   "source": []
  }
 ],
 "metadata": {
  "kernelspec": {
   "display_name": "Python 3 (ipykernel)",
   "language": "python",
   "name": "python3"
  },
  "language_info": {
   "codemirror_mode": {
    "name": "ipython",
    "version": 3
   },
   "file_extension": ".py",
   "mimetype": "text/x-python",
   "name": "python",
   "nbconvert_exporter": "python",
   "pygments_lexer": "ipython3",
   "version": "3.9.12"
  }
 },
 "nbformat": 4,
 "nbformat_minor": 5
}
