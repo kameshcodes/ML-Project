{
 "cells": [
  {
   "cell_type": "markdown",
   "id": "18014959",
   "metadata": {
    "id": "xJ03aDDIFQ_6",
    "papermill": {
     "duration": 0.016356,
     "end_time": "2022-08-26T11:48:18.801119",
     "exception": false,
     "start_time": "2022-08-26T11:48:18.784763",
     "status": "completed"
    },
    "tags": []
   },
   "source": [
    "# Datrix Classification Assignment"
   ]
  },
  {
   "cell_type": "code",
   "execution_count": 1,
   "id": "fd464d59",
   "metadata": {
    "execution": {
     "iopub.execute_input": "2022-08-26T11:48:18.833667Z",
     "iopub.status.busy": "2022-08-26T11:48:18.833026Z",
     "iopub.status.idle": "2022-08-26T11:48:20.054299Z",
     "shell.execute_reply": "2022-08-26T11:48:20.053233Z"
    },
    "id": "i_n1rW1f92H7",
    "papermill": {
     "duration": 1.241237,
     "end_time": "2022-08-26T11:48:20.057169",
     "exception": false,
     "start_time": "2022-08-26T11:48:18.815932",
     "status": "completed"
    },
    "tags": []
   },
   "outputs": [],
   "source": [
    "import pandas as pd\n",
    "import numpy as np\n",
    "# Let's see how the numeric data is distributed.\n",
    "import matplotlib.pyplot as plt\n",
    "import seaborn as sns\n",
    "from sklearn import preprocessing"
   ]
  },
  {
   "cell_type": "markdown",
   "id": "3dab273d",
   "metadata": {
    "id": "l665NJWtoOnS",
    "papermill": {
     "duration": 0.014382,
     "end_time": "2022-08-26T11:48:20.087879",
     "exception": false,
     "start_time": "2022-08-26T11:48:20.073497",
     "status": "completed"
    },
    "tags": []
   },
   "source": [
    "# Pre Processing"
   ]
  },
  {
   "cell_type": "code",
   "execution_count": 2,
   "id": "485bf0cf",
   "metadata": {
    "execution": {
     "iopub.execute_input": "2022-08-26T11:48:20.119651Z",
     "iopub.status.busy": "2022-08-26T11:48:20.118748Z",
     "iopub.status.idle": "2022-08-26T11:48:20.317749Z",
     "shell.execute_reply": "2022-08-26T11:48:20.316270Z"
    },
    "id": "1fXxur_-Abkc",
    "papermill": {
     "duration": 0.217697,
     "end_time": "2022-08-26T11:48:20.320526",
     "exception": false,
     "start_time": "2022-08-26T11:48:20.102829",
     "status": "completed"
    },
    "tags": []
   },
   "outputs": [],
   "source": [
    "data_path=\"../input/bank-marketing/bank-additional-full.csv\"\n",
    "df=pd.read_csv(data_path,sep=\";\")"
   ]
  },
  {
   "cell_type": "markdown",
   "id": "f092a58a",
   "metadata": {
    "id": "m_dUSNxUHekD",
    "papermill": {
     "duration": 0.014411,
     "end_time": "2022-08-26T11:48:20.349629",
     "exception": false,
     "start_time": "2022-08-26T11:48:20.335218",
     "status": "completed"
    },
    "tags": []
   },
   "source": [
    "## Features\n",
    "\n",
    "* Age (numeric)\n",
    "* Job : type of job (categorical: ‘admin.’, ‘blue-collar’, ‘entrepreneur’, ‘housemaid’, ‘management’, ‘retired’, ‘self-employed’, ‘services’, ‘student’, ‘technician’, ‘unemployed’, ‘unknown’)\n",
    "* Marital : marital status (categorical: ‘divorced’, ‘married’, ‘single’, ‘unknown’ ; note: ‘divorced’ means divorced or widowed)\n",
    "* Education (categorical: ‘basic.4y’, ‘basic.6y’, ‘basic.9y’, ‘high.school’, ‘illiterate’, ‘professional.course’, ‘university.degree’, ‘unknown’)\n",
    "* Default: has credit in default? (categorical: ‘no’, ‘yes’, ‘unknown’)\n",
    "* Housing: has housing loan? (categorical: ‘no’, ‘yes’, ‘unknown’)\n",
    "* Loan: has personal loan? (categorical: ‘no’, ‘yes’, ‘unknown’)\n",
    "\n",
    "* Contact: contact communication type (categorical: ‘cellular’,‘telephone’)\n",
    "* Month: last contact month of year (categorical: ‘jan’, ‘feb’, ‘mar’, …, ‘nov’, ‘dec’)\n",
    "* Day_of_week: last contact day of the week (categorical: ‘mon’,‘tue’,‘wed’,‘thu’,‘fri’)\n",
    "* Duration: last contact duration, in seconds (numeric).\n",
    "\n",
    "* Campaign: number of contacts performed during this campaign and for this client (numeric, includes last contact)\n",
    "* Pdays: number of days that passed by after the client was last contacted from a previous campaign (numeric; 999 means client was not previously contacted)\n",
    "* Previous: number of contacts performed before this campaign and for this client (numeric)\n",
    "* Poutcome: outcome of the previous marketing campaign (categorical: ‘failure’,‘nonexistent’,‘success’)\n",
    "\n",
    "* Emp.var.rate: employment variation rate - quarterly indicator (numeric)\n",
    "* Cons.price.idx: consumer price index - monthly indicator (numeric)\n",
    "* Cons.conf.idx: consumer confidence index - monthly indicator (numeric)\n",
    "* Euribor3m: euribor 3 month rate - daily indicator (numeric)\n",
    "* Nr.employed: number of employees - quarterly indicator (numeric)\n",
    "Output variable (desired target):\n",
    "\n",
    "* y: has the client subscribed a term deposit? (binary: ‘yes’, ‘no’)"
   ]
  },
  {
   "cell_type": "code",
   "execution_count": 3,
   "id": "bc595f07",
   "metadata": {
    "execution": {
     "iopub.execute_input": "2022-08-26T11:48:20.381174Z",
     "iopub.status.busy": "2022-08-26T11:48:20.380398Z",
     "iopub.status.idle": "2022-08-26T11:48:20.431797Z",
     "shell.execute_reply": "2022-08-26T11:48:20.430423Z"
    },
    "id": "B8_H4o8kAo5Y",
    "outputId": "d3460e13-9216-4a12-d57d-f96abb64f848",
    "papermill": {
     "duration": 0.070489,
     "end_time": "2022-08-26T11:48:20.434845",
     "exception": false,
     "start_time": "2022-08-26T11:48:20.364356",
     "status": "completed"
    },
    "tags": []
   },
   "outputs": [
    {
     "name": "stdout",
     "output_type": "stream",
     "text": [
      "<class 'pandas.core.frame.DataFrame'>\n",
      "RangeIndex: 41188 entries, 0 to 41187\n",
      "Data columns (total 21 columns):\n",
      " #   Column          Non-Null Count  Dtype  \n",
      "---  ------          --------------  -----  \n",
      " 0   age             41188 non-null  int64  \n",
      " 1   job             41188 non-null  object \n",
      " 2   marital         41188 non-null  object \n",
      " 3   education       41188 non-null  object \n",
      " 4   default         41188 non-null  object \n",
      " 5   housing         41188 non-null  object \n",
      " 6   loan            41188 non-null  object \n",
      " 7   contact         41188 non-null  object \n",
      " 8   month           41188 non-null  object \n",
      " 9   day_of_week     41188 non-null  object \n",
      " 10  duration        41188 non-null  int64  \n",
      " 11  campaign        41188 non-null  int64  \n",
      " 12  pdays           41188 non-null  int64  \n",
      " 13  previous        41188 non-null  int64  \n",
      " 14  poutcome        41188 non-null  object \n",
      " 15  emp.var.rate    41188 non-null  float64\n",
      " 16  cons.price.idx  41188 non-null  float64\n",
      " 17  cons.conf.idx   41188 non-null  float64\n",
      " 18  euribor3m       41188 non-null  float64\n",
      " 19  nr.employed     41188 non-null  float64\n",
      " 20  y               41188 non-null  object \n",
      "dtypes: float64(5), int64(5), object(11)\n",
      "memory usage: 6.6+ MB\n"
     ]
    }
   ],
   "source": [
    "df.info()"
   ]
  },
  {
   "cell_type": "code",
   "execution_count": 4,
   "id": "8c2712a8",
   "metadata": {
    "execution": {
     "iopub.execute_input": "2022-08-26T11:48:20.471403Z",
     "iopub.status.busy": "2022-08-26T11:48:20.470791Z",
     "iopub.status.idle": "2022-08-26T11:48:20.556200Z",
     "shell.execute_reply": "2022-08-26T11:48:20.554196Z"
    },
    "id": "GRcLJbPuAoPe",
    "outputId": "1dc77e06-99dc-4f81-d38e-3a726f86ffff",
    "papermill": {
     "duration": 0.109718,
     "end_time": "2022-08-26T11:48:20.560091",
     "exception": false,
     "start_time": "2022-08-26T11:48:20.450373",
     "status": "completed"
    },
    "tags": []
   },
   "outputs": [
    {
     "data": {
      "text/html": [
       "<div>\n",
       "<style scoped>\n",
       "    .dataframe tbody tr th:only-of-type {\n",
       "        vertical-align: middle;\n",
       "    }\n",
       "\n",
       "    .dataframe tbody tr th {\n",
       "        vertical-align: top;\n",
       "    }\n",
       "\n",
       "    .dataframe thead th {\n",
       "        text-align: right;\n",
       "    }\n",
       "</style>\n",
       "<table border=\"1\" class=\"dataframe\">\n",
       "  <thead>\n",
       "    <tr style=\"text-align: right;\">\n",
       "      <th></th>\n",
       "      <th>age</th>\n",
       "      <th>job</th>\n",
       "      <th>marital</th>\n",
       "      <th>education</th>\n",
       "      <th>default</th>\n",
       "      <th>housing</th>\n",
       "      <th>loan</th>\n",
       "      <th>contact</th>\n",
       "      <th>month</th>\n",
       "      <th>day_of_week</th>\n",
       "      <th>...</th>\n",
       "      <th>campaign</th>\n",
       "      <th>pdays</th>\n",
       "      <th>previous</th>\n",
       "      <th>poutcome</th>\n",
       "      <th>emp.var.rate</th>\n",
       "      <th>cons.price.idx</th>\n",
       "      <th>cons.conf.idx</th>\n",
       "      <th>euribor3m</th>\n",
       "      <th>nr.employed</th>\n",
       "      <th>y</th>\n",
       "    </tr>\n",
       "  </thead>\n",
       "  <tbody>\n",
       "    <tr>\n",
       "      <th>0</th>\n",
       "      <td>56</td>\n",
       "      <td>housemaid</td>\n",
       "      <td>married</td>\n",
       "      <td>basic.4y</td>\n",
       "      <td>no</td>\n",
       "      <td>no</td>\n",
       "      <td>no</td>\n",
       "      <td>telephone</td>\n",
       "      <td>may</td>\n",
       "      <td>mon</td>\n",
       "      <td>...</td>\n",
       "      <td>1</td>\n",
       "      <td>999</td>\n",
       "      <td>0</td>\n",
       "      <td>nonexistent</td>\n",
       "      <td>1.1</td>\n",
       "      <td>93.994</td>\n",
       "      <td>-36.4</td>\n",
       "      <td>4.857</td>\n",
       "      <td>5191.0</td>\n",
       "      <td>no</td>\n",
       "    </tr>\n",
       "    <tr>\n",
       "      <th>1</th>\n",
       "      <td>57</td>\n",
       "      <td>services</td>\n",
       "      <td>married</td>\n",
       "      <td>high.school</td>\n",
       "      <td>unknown</td>\n",
       "      <td>no</td>\n",
       "      <td>no</td>\n",
       "      <td>telephone</td>\n",
       "      <td>may</td>\n",
       "      <td>mon</td>\n",
       "      <td>...</td>\n",
       "      <td>1</td>\n",
       "      <td>999</td>\n",
       "      <td>0</td>\n",
       "      <td>nonexistent</td>\n",
       "      <td>1.1</td>\n",
       "      <td>93.994</td>\n",
       "      <td>-36.4</td>\n",
       "      <td>4.857</td>\n",
       "      <td>5191.0</td>\n",
       "      <td>no</td>\n",
       "    </tr>\n",
       "    <tr>\n",
       "      <th>2</th>\n",
       "      <td>37</td>\n",
       "      <td>services</td>\n",
       "      <td>married</td>\n",
       "      <td>high.school</td>\n",
       "      <td>no</td>\n",
       "      <td>yes</td>\n",
       "      <td>no</td>\n",
       "      <td>telephone</td>\n",
       "      <td>may</td>\n",
       "      <td>mon</td>\n",
       "      <td>...</td>\n",
       "      <td>1</td>\n",
       "      <td>999</td>\n",
       "      <td>0</td>\n",
       "      <td>nonexistent</td>\n",
       "      <td>1.1</td>\n",
       "      <td>93.994</td>\n",
       "      <td>-36.4</td>\n",
       "      <td>4.857</td>\n",
       "      <td>5191.0</td>\n",
       "      <td>no</td>\n",
       "    </tr>\n",
       "    <tr>\n",
       "      <th>3</th>\n",
       "      <td>40</td>\n",
       "      <td>admin.</td>\n",
       "      <td>married</td>\n",
       "      <td>basic.6y</td>\n",
       "      <td>no</td>\n",
       "      <td>no</td>\n",
       "      <td>no</td>\n",
       "      <td>telephone</td>\n",
       "      <td>may</td>\n",
       "      <td>mon</td>\n",
       "      <td>...</td>\n",
       "      <td>1</td>\n",
       "      <td>999</td>\n",
       "      <td>0</td>\n",
       "      <td>nonexistent</td>\n",
       "      <td>1.1</td>\n",
       "      <td>93.994</td>\n",
       "      <td>-36.4</td>\n",
       "      <td>4.857</td>\n",
       "      <td>5191.0</td>\n",
       "      <td>no</td>\n",
       "    </tr>\n",
       "    <tr>\n",
       "      <th>4</th>\n",
       "      <td>56</td>\n",
       "      <td>services</td>\n",
       "      <td>married</td>\n",
       "      <td>high.school</td>\n",
       "      <td>no</td>\n",
       "      <td>no</td>\n",
       "      <td>yes</td>\n",
       "      <td>telephone</td>\n",
       "      <td>may</td>\n",
       "      <td>mon</td>\n",
       "      <td>...</td>\n",
       "      <td>1</td>\n",
       "      <td>999</td>\n",
       "      <td>0</td>\n",
       "      <td>nonexistent</td>\n",
       "      <td>1.1</td>\n",
       "      <td>93.994</td>\n",
       "      <td>-36.4</td>\n",
       "      <td>4.857</td>\n",
       "      <td>5191.0</td>\n",
       "      <td>no</td>\n",
       "    </tr>\n",
       "    <tr>\n",
       "      <th>...</th>\n",
       "      <td>...</td>\n",
       "      <td>...</td>\n",
       "      <td>...</td>\n",
       "      <td>...</td>\n",
       "      <td>...</td>\n",
       "      <td>...</td>\n",
       "      <td>...</td>\n",
       "      <td>...</td>\n",
       "      <td>...</td>\n",
       "      <td>...</td>\n",
       "      <td>...</td>\n",
       "      <td>...</td>\n",
       "      <td>...</td>\n",
       "      <td>...</td>\n",
       "      <td>...</td>\n",
       "      <td>...</td>\n",
       "      <td>...</td>\n",
       "      <td>...</td>\n",
       "      <td>...</td>\n",
       "      <td>...</td>\n",
       "      <td>...</td>\n",
       "    </tr>\n",
       "    <tr>\n",
       "      <th>41183</th>\n",
       "      <td>73</td>\n",
       "      <td>retired</td>\n",
       "      <td>married</td>\n",
       "      <td>professional.course</td>\n",
       "      <td>no</td>\n",
       "      <td>yes</td>\n",
       "      <td>no</td>\n",
       "      <td>cellular</td>\n",
       "      <td>nov</td>\n",
       "      <td>fri</td>\n",
       "      <td>...</td>\n",
       "      <td>1</td>\n",
       "      <td>999</td>\n",
       "      <td>0</td>\n",
       "      <td>nonexistent</td>\n",
       "      <td>-1.1</td>\n",
       "      <td>94.767</td>\n",
       "      <td>-50.8</td>\n",
       "      <td>1.028</td>\n",
       "      <td>4963.6</td>\n",
       "      <td>yes</td>\n",
       "    </tr>\n",
       "    <tr>\n",
       "      <th>41184</th>\n",
       "      <td>46</td>\n",
       "      <td>blue-collar</td>\n",
       "      <td>married</td>\n",
       "      <td>professional.course</td>\n",
       "      <td>no</td>\n",
       "      <td>no</td>\n",
       "      <td>no</td>\n",
       "      <td>cellular</td>\n",
       "      <td>nov</td>\n",
       "      <td>fri</td>\n",
       "      <td>...</td>\n",
       "      <td>1</td>\n",
       "      <td>999</td>\n",
       "      <td>0</td>\n",
       "      <td>nonexistent</td>\n",
       "      <td>-1.1</td>\n",
       "      <td>94.767</td>\n",
       "      <td>-50.8</td>\n",
       "      <td>1.028</td>\n",
       "      <td>4963.6</td>\n",
       "      <td>no</td>\n",
       "    </tr>\n",
       "    <tr>\n",
       "      <th>41185</th>\n",
       "      <td>56</td>\n",
       "      <td>retired</td>\n",
       "      <td>married</td>\n",
       "      <td>university.degree</td>\n",
       "      <td>no</td>\n",
       "      <td>yes</td>\n",
       "      <td>no</td>\n",
       "      <td>cellular</td>\n",
       "      <td>nov</td>\n",
       "      <td>fri</td>\n",
       "      <td>...</td>\n",
       "      <td>2</td>\n",
       "      <td>999</td>\n",
       "      <td>0</td>\n",
       "      <td>nonexistent</td>\n",
       "      <td>-1.1</td>\n",
       "      <td>94.767</td>\n",
       "      <td>-50.8</td>\n",
       "      <td>1.028</td>\n",
       "      <td>4963.6</td>\n",
       "      <td>no</td>\n",
       "    </tr>\n",
       "    <tr>\n",
       "      <th>41186</th>\n",
       "      <td>44</td>\n",
       "      <td>technician</td>\n",
       "      <td>married</td>\n",
       "      <td>professional.course</td>\n",
       "      <td>no</td>\n",
       "      <td>no</td>\n",
       "      <td>no</td>\n",
       "      <td>cellular</td>\n",
       "      <td>nov</td>\n",
       "      <td>fri</td>\n",
       "      <td>...</td>\n",
       "      <td>1</td>\n",
       "      <td>999</td>\n",
       "      <td>0</td>\n",
       "      <td>nonexistent</td>\n",
       "      <td>-1.1</td>\n",
       "      <td>94.767</td>\n",
       "      <td>-50.8</td>\n",
       "      <td>1.028</td>\n",
       "      <td>4963.6</td>\n",
       "      <td>yes</td>\n",
       "    </tr>\n",
       "    <tr>\n",
       "      <th>41187</th>\n",
       "      <td>74</td>\n",
       "      <td>retired</td>\n",
       "      <td>married</td>\n",
       "      <td>professional.course</td>\n",
       "      <td>no</td>\n",
       "      <td>yes</td>\n",
       "      <td>no</td>\n",
       "      <td>cellular</td>\n",
       "      <td>nov</td>\n",
       "      <td>fri</td>\n",
       "      <td>...</td>\n",
       "      <td>3</td>\n",
       "      <td>999</td>\n",
       "      <td>1</td>\n",
       "      <td>failure</td>\n",
       "      <td>-1.1</td>\n",
       "      <td>94.767</td>\n",
       "      <td>-50.8</td>\n",
       "      <td>1.028</td>\n",
       "      <td>4963.6</td>\n",
       "      <td>no</td>\n",
       "    </tr>\n",
       "  </tbody>\n",
       "</table>\n",
       "<p>41188 rows × 21 columns</p>\n",
       "</div>"
      ],
      "text/plain": [
       "       age          job  marital            education  default housing loan  \\\n",
       "0       56    housemaid  married             basic.4y       no      no   no   \n",
       "1       57     services  married          high.school  unknown      no   no   \n",
       "2       37     services  married          high.school       no     yes   no   \n",
       "3       40       admin.  married             basic.6y       no      no   no   \n",
       "4       56     services  married          high.school       no      no  yes   \n",
       "...    ...          ...      ...                  ...      ...     ...  ...   \n",
       "41183   73      retired  married  professional.course       no     yes   no   \n",
       "41184   46  blue-collar  married  professional.course       no      no   no   \n",
       "41185   56      retired  married    university.degree       no     yes   no   \n",
       "41186   44   technician  married  professional.course       no      no   no   \n",
       "41187   74      retired  married  professional.course       no     yes   no   \n",
       "\n",
       "         contact month day_of_week  ...  campaign  pdays  previous  \\\n",
       "0      telephone   may         mon  ...         1    999         0   \n",
       "1      telephone   may         mon  ...         1    999         0   \n",
       "2      telephone   may         mon  ...         1    999         0   \n",
       "3      telephone   may         mon  ...         1    999         0   \n",
       "4      telephone   may         mon  ...         1    999         0   \n",
       "...          ...   ...         ...  ...       ...    ...       ...   \n",
       "41183   cellular   nov         fri  ...         1    999         0   \n",
       "41184   cellular   nov         fri  ...         1    999         0   \n",
       "41185   cellular   nov         fri  ...         2    999         0   \n",
       "41186   cellular   nov         fri  ...         1    999         0   \n",
       "41187   cellular   nov         fri  ...         3    999         1   \n",
       "\n",
       "          poutcome emp.var.rate  cons.price.idx  cons.conf.idx  euribor3m  \\\n",
       "0      nonexistent          1.1          93.994          -36.4      4.857   \n",
       "1      nonexistent          1.1          93.994          -36.4      4.857   \n",
       "2      nonexistent          1.1          93.994          -36.4      4.857   \n",
       "3      nonexistent          1.1          93.994          -36.4      4.857   \n",
       "4      nonexistent          1.1          93.994          -36.4      4.857   \n",
       "...            ...          ...             ...            ...        ...   \n",
       "41183  nonexistent         -1.1          94.767          -50.8      1.028   \n",
       "41184  nonexistent         -1.1          94.767          -50.8      1.028   \n",
       "41185  nonexistent         -1.1          94.767          -50.8      1.028   \n",
       "41186  nonexistent         -1.1          94.767          -50.8      1.028   \n",
       "41187      failure         -1.1          94.767          -50.8      1.028   \n",
       "\n",
       "       nr.employed    y  \n",
       "0           5191.0   no  \n",
       "1           5191.0   no  \n",
       "2           5191.0   no  \n",
       "3           5191.0   no  \n",
       "4           5191.0   no  \n",
       "...            ...  ...  \n",
       "41183       4963.6  yes  \n",
       "41184       4963.6   no  \n",
       "41185       4963.6   no  \n",
       "41186       4963.6  yes  \n",
       "41187       4963.6   no  \n",
       "\n",
       "[41188 rows x 21 columns]"
      ]
     },
     "execution_count": 4,
     "metadata": {},
     "output_type": "execute_result"
    }
   ],
   "source": [
    "df"
   ]
  },
  {
   "cell_type": "code",
   "execution_count": 5,
   "id": "bfe45bfc",
   "metadata": {
    "execution": {
     "iopub.execute_input": "2022-08-26T11:48:20.593964Z",
     "iopub.status.busy": "2022-08-26T11:48:20.593544Z",
     "iopub.status.idle": "2022-08-26T11:48:20.638358Z",
     "shell.execute_reply": "2022-08-26T11:48:20.636996Z"
    },
    "id": "GcF22TnoLTIv",
    "outputId": "a6ef1c22-b497-4c6c-96f3-31f9ccfc1853",
    "papermill": {
     "duration": 0.064396,
     "end_time": "2022-08-26T11:48:20.641320",
     "exception": false,
     "start_time": "2022-08-26T11:48:20.576924",
     "status": "completed"
    },
    "tags": []
   },
   "outputs": [
    {
     "name": "stdout",
     "output_type": "stream",
     "text": [
      "Job:\n",
      "admin.           10422\n",
      "blue-collar       9254\n",
      "technician        6743\n",
      "services          3969\n",
      "management        2924\n",
      "retired           1720\n",
      "entrepreneur      1456\n",
      "self-employed     1421\n",
      "housemaid         1060\n",
      "unemployed        1014\n",
      "student            875\n",
      "unknown            330\n",
      "Name: job, dtype: int64\n",
      "----------------------------------------\n",
      "Marital:\n",
      "married     24928\n",
      "single      11568\n",
      "divorced     4612\n",
      "unknown        80\n",
      "Name: marital, dtype: int64\n",
      "----------------------------------------\n",
      "Education:\n",
      "university.degree      12168\n",
      "high.school             9515\n",
      "basic.9y                6045\n",
      "professional.course     5243\n",
      "basic.4y                4176\n",
      "basic.6y                2292\n",
      "unknown                 1731\n",
      "illiterate                18\n",
      "Name: education, dtype: int64\n",
      "----------------------------------------\n",
      "Default:\n",
      "no         32588\n",
      "unknown     8597\n",
      "yes            3\n",
      "Name: default, dtype: int64\n",
      "----------------------------------------\n",
      "Housing loan:\n",
      "yes        21576\n",
      "no         18622\n",
      "unknown      990\n",
      "Name: housing, dtype: int64\n",
      "----------------------------------------\n",
      "Personal loan:\n",
      "no         33950\n",
      "yes         6248\n",
      "unknown      990\n",
      "Name: loan, dtype: int64\n",
      "----------------------------------------\n",
      "Contact:\n",
      "cellular     26144\n",
      "telephone    15044\n",
      "Name: contact, dtype: int64\n",
      "----------------------------------------\n",
      "Month:\n",
      "may    13769\n",
      "jul     7174\n",
      "aug     6178\n",
      "jun     5318\n",
      "nov     4101\n",
      "apr     2632\n",
      "oct      718\n",
      "sep      570\n",
      "mar      546\n",
      "dec      182\n",
      "Name: month, dtype: int64\n",
      "----------------------------------------\n",
      "Day:\n",
      "thu    8623\n",
      "mon    8514\n",
      "wed    8134\n",
      "tue    8090\n",
      "fri    7827\n",
      "Name: day_of_week, dtype: int64\n",
      "----------------------------------------\n",
      "Previous outcome:\n",
      "nonexistent    35563\n",
      "failure         4252\n",
      "success         1373\n",
      "Name: poutcome, dtype: int64\n",
      "----------------------------------------\n",
      "Outcome of this campaign:\n",
      "no     36548\n",
      "yes     4640\n",
      "Name: y, dtype: int64\n",
      "----------------------------------------\n"
     ]
    }
   ],
   "source": [
    "#Checking out the categories and their respective counts in each feature\n",
    "print(\"Job:\",df.job.value_counts(),sep = '\\n')\n",
    "print(\"-\"*40)\n",
    "print(\"Marital:\",df.marital.value_counts(),sep = '\\n')\n",
    "print(\"-\"*40)\n",
    "print(\"Education:\",df.education.value_counts(),sep = '\\n')\n",
    "print(\"-\"*40)\n",
    "print(\"Default:\",df.default.value_counts(),sep = '\\n')\n",
    "print(\"-\"*40)\n",
    "print(\"Housing loan:\",df.housing.value_counts(),sep = '\\n')\n",
    "print(\"-\"*40)\n",
    "print(\"Personal loan:\",df.loan.value_counts(),sep = '\\n')\n",
    "print(\"-\"*40)\n",
    "print(\"Contact:\",df.contact.value_counts(),sep = '\\n')\n",
    "print(\"-\"*40)\n",
    "print(\"Month:\",df.month.value_counts(),sep = '\\n')\n",
    "print(\"-\"*40)\n",
    "print(\"Day:\",df.day_of_week.value_counts(),sep = '\\n')\n",
    "print(\"-\"*40)\n",
    "print(\"Previous outcome:\",df.poutcome.value_counts(),sep = '\\n')\n",
    "print(\"-\"*40)\n",
    "print(\"Outcome of this campaign:\",df.y.value_counts(),sep = '\\n')\n",
    "print(\"-\"*40)"
   ]
  },
  {
   "cell_type": "markdown",
   "id": "05d00759",
   "metadata": {
    "id": "nqclx_4DPIUd",
    "papermill": {
     "duration": 0.015092,
     "end_time": "2022-08-26T11:48:20.672152",
     "exception": false,
     "start_time": "2022-08-26T11:48:20.657060",
     "status": "completed"
    },
    "tags": []
   },
   "source": [
    "## Dealing with Missing Values\n",
    "\n",
    "Firstly I start to work with missing values for this kind of project. In the dataset there is no missing values but there are some \"Unknown\" values which are actually missing values for us. So I start to pre-processing by removing this values from dataset."
   ]
  },
  {
   "cell_type": "code",
   "execution_count": 6,
   "id": "77b060a8",
   "metadata": {
    "execution": {
     "iopub.execute_input": "2022-08-26T11:48:20.705537Z",
     "iopub.status.busy": "2022-08-26T11:48:20.704471Z",
     "iopub.status.idle": "2022-08-26T11:48:21.254069Z",
     "shell.execute_reply": "2022-08-26T11:48:21.252918Z"
    },
    "id": "ZV59lKvYPHsA",
    "papermill": {
     "duration": 0.569184,
     "end_time": "2022-08-26T11:48:21.256895",
     "exception": false,
     "start_time": "2022-08-26T11:48:20.687711",
     "status": "completed"
    },
    "tags": []
   },
   "outputs": [],
   "source": [
    "for column in df.columns:\n",
    "    df[column].replace('unknown', np.nan, inplace=True)\n",
    "    df.dropna(inplace=True)"
   ]
  },
  {
   "cell_type": "code",
   "execution_count": 7,
   "id": "b8585c9c",
   "metadata": {
    "execution": {
     "iopub.execute_input": "2022-08-26T11:48:21.289905Z",
     "iopub.status.busy": "2022-08-26T11:48:21.289490Z",
     "iopub.status.idle": "2022-08-26T11:48:21.348897Z",
     "shell.execute_reply": "2022-08-26T11:48:21.347803Z"
    },
    "id": "43LyMcEjQ9E2",
    "outputId": "0736aace-45c6-4453-9c0e-e527ba3a79c9",
    "papermill": {
     "duration": 0.078952,
     "end_time": "2022-08-26T11:48:21.351565",
     "exception": false,
     "start_time": "2022-08-26T11:48:21.272613",
     "status": "completed"
    },
    "tags": []
   },
   "outputs": [
    {
     "data": {
      "text/html": [
       "<div>\n",
       "<style scoped>\n",
       "    .dataframe tbody tr th:only-of-type {\n",
       "        vertical-align: middle;\n",
       "    }\n",
       "\n",
       "    .dataframe tbody tr th {\n",
       "        vertical-align: top;\n",
       "    }\n",
       "\n",
       "    .dataframe thead th {\n",
       "        text-align: right;\n",
       "    }\n",
       "</style>\n",
       "<table border=\"1\" class=\"dataframe\">\n",
       "  <thead>\n",
       "    <tr style=\"text-align: right;\">\n",
       "      <th></th>\n",
       "      <th>age</th>\n",
       "      <th>job</th>\n",
       "      <th>marital</th>\n",
       "      <th>education</th>\n",
       "      <th>default</th>\n",
       "      <th>housing</th>\n",
       "      <th>loan</th>\n",
       "      <th>contact</th>\n",
       "      <th>month</th>\n",
       "      <th>day_of_week</th>\n",
       "      <th>...</th>\n",
       "      <th>campaign</th>\n",
       "      <th>pdays</th>\n",
       "      <th>previous</th>\n",
       "      <th>poutcome</th>\n",
       "      <th>emp.var.rate</th>\n",
       "      <th>cons.price.idx</th>\n",
       "      <th>cons.conf.idx</th>\n",
       "      <th>euribor3m</th>\n",
       "      <th>nr.employed</th>\n",
       "      <th>y</th>\n",
       "    </tr>\n",
       "  </thead>\n",
       "  <tbody>\n",
       "    <tr>\n",
       "      <th>0</th>\n",
       "      <td>56</td>\n",
       "      <td>housemaid</td>\n",
       "      <td>married</td>\n",
       "      <td>basic.4y</td>\n",
       "      <td>no</td>\n",
       "      <td>no</td>\n",
       "      <td>no</td>\n",
       "      <td>telephone</td>\n",
       "      <td>may</td>\n",
       "      <td>mon</td>\n",
       "      <td>...</td>\n",
       "      <td>1</td>\n",
       "      <td>999</td>\n",
       "      <td>0</td>\n",
       "      <td>nonexistent</td>\n",
       "      <td>1.1</td>\n",
       "      <td>93.994</td>\n",
       "      <td>-36.4</td>\n",
       "      <td>4.857</td>\n",
       "      <td>5191.0</td>\n",
       "      <td>no</td>\n",
       "    </tr>\n",
       "    <tr>\n",
       "      <th>1</th>\n",
       "      <td>37</td>\n",
       "      <td>services</td>\n",
       "      <td>married</td>\n",
       "      <td>high.school</td>\n",
       "      <td>no</td>\n",
       "      <td>yes</td>\n",
       "      <td>no</td>\n",
       "      <td>telephone</td>\n",
       "      <td>may</td>\n",
       "      <td>mon</td>\n",
       "      <td>...</td>\n",
       "      <td>1</td>\n",
       "      <td>999</td>\n",
       "      <td>0</td>\n",
       "      <td>nonexistent</td>\n",
       "      <td>1.1</td>\n",
       "      <td>93.994</td>\n",
       "      <td>-36.4</td>\n",
       "      <td>4.857</td>\n",
       "      <td>5191.0</td>\n",
       "      <td>no</td>\n",
       "    </tr>\n",
       "    <tr>\n",
       "      <th>2</th>\n",
       "      <td>40</td>\n",
       "      <td>admin.</td>\n",
       "      <td>married</td>\n",
       "      <td>basic.6y</td>\n",
       "      <td>no</td>\n",
       "      <td>no</td>\n",
       "      <td>no</td>\n",
       "      <td>telephone</td>\n",
       "      <td>may</td>\n",
       "      <td>mon</td>\n",
       "      <td>...</td>\n",
       "      <td>1</td>\n",
       "      <td>999</td>\n",
       "      <td>0</td>\n",
       "      <td>nonexistent</td>\n",
       "      <td>1.1</td>\n",
       "      <td>93.994</td>\n",
       "      <td>-36.4</td>\n",
       "      <td>4.857</td>\n",
       "      <td>5191.0</td>\n",
       "      <td>no</td>\n",
       "    </tr>\n",
       "    <tr>\n",
       "      <th>3</th>\n",
       "      <td>56</td>\n",
       "      <td>services</td>\n",
       "      <td>married</td>\n",
       "      <td>high.school</td>\n",
       "      <td>no</td>\n",
       "      <td>no</td>\n",
       "      <td>yes</td>\n",
       "      <td>telephone</td>\n",
       "      <td>may</td>\n",
       "      <td>mon</td>\n",
       "      <td>...</td>\n",
       "      <td>1</td>\n",
       "      <td>999</td>\n",
       "      <td>0</td>\n",
       "      <td>nonexistent</td>\n",
       "      <td>1.1</td>\n",
       "      <td>93.994</td>\n",
       "      <td>-36.4</td>\n",
       "      <td>4.857</td>\n",
       "      <td>5191.0</td>\n",
       "      <td>no</td>\n",
       "    </tr>\n",
       "    <tr>\n",
       "      <th>4</th>\n",
       "      <td>59</td>\n",
       "      <td>admin.</td>\n",
       "      <td>married</td>\n",
       "      <td>professional.course</td>\n",
       "      <td>no</td>\n",
       "      <td>no</td>\n",
       "      <td>no</td>\n",
       "      <td>telephone</td>\n",
       "      <td>may</td>\n",
       "      <td>mon</td>\n",
       "      <td>...</td>\n",
       "      <td>1</td>\n",
       "      <td>999</td>\n",
       "      <td>0</td>\n",
       "      <td>nonexistent</td>\n",
       "      <td>1.1</td>\n",
       "      <td>93.994</td>\n",
       "      <td>-36.4</td>\n",
       "      <td>4.857</td>\n",
       "      <td>5191.0</td>\n",
       "      <td>no</td>\n",
       "    </tr>\n",
       "    <tr>\n",
       "      <th>...</th>\n",
       "      <td>...</td>\n",
       "      <td>...</td>\n",
       "      <td>...</td>\n",
       "      <td>...</td>\n",
       "      <td>...</td>\n",
       "      <td>...</td>\n",
       "      <td>...</td>\n",
       "      <td>...</td>\n",
       "      <td>...</td>\n",
       "      <td>...</td>\n",
       "      <td>...</td>\n",
       "      <td>...</td>\n",
       "      <td>...</td>\n",
       "      <td>...</td>\n",
       "      <td>...</td>\n",
       "      <td>...</td>\n",
       "      <td>...</td>\n",
       "      <td>...</td>\n",
       "      <td>...</td>\n",
       "      <td>...</td>\n",
       "      <td>...</td>\n",
       "    </tr>\n",
       "    <tr>\n",
       "      <th>30483</th>\n",
       "      <td>73</td>\n",
       "      <td>retired</td>\n",
       "      <td>married</td>\n",
       "      <td>professional.course</td>\n",
       "      <td>no</td>\n",
       "      <td>yes</td>\n",
       "      <td>no</td>\n",
       "      <td>cellular</td>\n",
       "      <td>nov</td>\n",
       "      <td>fri</td>\n",
       "      <td>...</td>\n",
       "      <td>1</td>\n",
       "      <td>999</td>\n",
       "      <td>0</td>\n",
       "      <td>nonexistent</td>\n",
       "      <td>-1.1</td>\n",
       "      <td>94.767</td>\n",
       "      <td>-50.8</td>\n",
       "      <td>1.028</td>\n",
       "      <td>4963.6</td>\n",
       "      <td>yes</td>\n",
       "    </tr>\n",
       "    <tr>\n",
       "      <th>30484</th>\n",
       "      <td>46</td>\n",
       "      <td>blue-collar</td>\n",
       "      <td>married</td>\n",
       "      <td>professional.course</td>\n",
       "      <td>no</td>\n",
       "      <td>no</td>\n",
       "      <td>no</td>\n",
       "      <td>cellular</td>\n",
       "      <td>nov</td>\n",
       "      <td>fri</td>\n",
       "      <td>...</td>\n",
       "      <td>1</td>\n",
       "      <td>999</td>\n",
       "      <td>0</td>\n",
       "      <td>nonexistent</td>\n",
       "      <td>-1.1</td>\n",
       "      <td>94.767</td>\n",
       "      <td>-50.8</td>\n",
       "      <td>1.028</td>\n",
       "      <td>4963.6</td>\n",
       "      <td>no</td>\n",
       "    </tr>\n",
       "    <tr>\n",
       "      <th>30485</th>\n",
       "      <td>56</td>\n",
       "      <td>retired</td>\n",
       "      <td>married</td>\n",
       "      <td>university.degree</td>\n",
       "      <td>no</td>\n",
       "      <td>yes</td>\n",
       "      <td>no</td>\n",
       "      <td>cellular</td>\n",
       "      <td>nov</td>\n",
       "      <td>fri</td>\n",
       "      <td>...</td>\n",
       "      <td>2</td>\n",
       "      <td>999</td>\n",
       "      <td>0</td>\n",
       "      <td>nonexistent</td>\n",
       "      <td>-1.1</td>\n",
       "      <td>94.767</td>\n",
       "      <td>-50.8</td>\n",
       "      <td>1.028</td>\n",
       "      <td>4963.6</td>\n",
       "      <td>no</td>\n",
       "    </tr>\n",
       "    <tr>\n",
       "      <th>30486</th>\n",
       "      <td>44</td>\n",
       "      <td>technician</td>\n",
       "      <td>married</td>\n",
       "      <td>professional.course</td>\n",
       "      <td>no</td>\n",
       "      <td>no</td>\n",
       "      <td>no</td>\n",
       "      <td>cellular</td>\n",
       "      <td>nov</td>\n",
       "      <td>fri</td>\n",
       "      <td>...</td>\n",
       "      <td>1</td>\n",
       "      <td>999</td>\n",
       "      <td>0</td>\n",
       "      <td>nonexistent</td>\n",
       "      <td>-1.1</td>\n",
       "      <td>94.767</td>\n",
       "      <td>-50.8</td>\n",
       "      <td>1.028</td>\n",
       "      <td>4963.6</td>\n",
       "      <td>yes</td>\n",
       "    </tr>\n",
       "    <tr>\n",
       "      <th>30487</th>\n",
       "      <td>74</td>\n",
       "      <td>retired</td>\n",
       "      <td>married</td>\n",
       "      <td>professional.course</td>\n",
       "      <td>no</td>\n",
       "      <td>yes</td>\n",
       "      <td>no</td>\n",
       "      <td>cellular</td>\n",
       "      <td>nov</td>\n",
       "      <td>fri</td>\n",
       "      <td>...</td>\n",
       "      <td>3</td>\n",
       "      <td>999</td>\n",
       "      <td>1</td>\n",
       "      <td>failure</td>\n",
       "      <td>-1.1</td>\n",
       "      <td>94.767</td>\n",
       "      <td>-50.8</td>\n",
       "      <td>1.028</td>\n",
       "      <td>4963.6</td>\n",
       "      <td>no</td>\n",
       "    </tr>\n",
       "  </tbody>\n",
       "</table>\n",
       "<p>30488 rows × 21 columns</p>\n",
       "</div>"
      ],
      "text/plain": [
       "       age          job  marital            education default housing loan  \\\n",
       "0       56    housemaid  married             basic.4y      no      no   no   \n",
       "1       37     services  married          high.school      no     yes   no   \n",
       "2       40       admin.  married             basic.6y      no      no   no   \n",
       "3       56     services  married          high.school      no      no  yes   \n",
       "4       59       admin.  married  professional.course      no      no   no   \n",
       "...    ...          ...      ...                  ...     ...     ...  ...   \n",
       "30483   73      retired  married  professional.course      no     yes   no   \n",
       "30484   46  blue-collar  married  professional.course      no      no   no   \n",
       "30485   56      retired  married    university.degree      no     yes   no   \n",
       "30486   44   technician  married  professional.course      no      no   no   \n",
       "30487   74      retired  married  professional.course      no     yes   no   \n",
       "\n",
       "         contact month day_of_week  ...  campaign  pdays  previous  \\\n",
       "0      telephone   may         mon  ...         1    999         0   \n",
       "1      telephone   may         mon  ...         1    999         0   \n",
       "2      telephone   may         mon  ...         1    999         0   \n",
       "3      telephone   may         mon  ...         1    999         0   \n",
       "4      telephone   may         mon  ...         1    999         0   \n",
       "...          ...   ...         ...  ...       ...    ...       ...   \n",
       "30483   cellular   nov         fri  ...         1    999         0   \n",
       "30484   cellular   nov         fri  ...         1    999         0   \n",
       "30485   cellular   nov         fri  ...         2    999         0   \n",
       "30486   cellular   nov         fri  ...         1    999         0   \n",
       "30487   cellular   nov         fri  ...         3    999         1   \n",
       "\n",
       "          poutcome emp.var.rate  cons.price.idx  cons.conf.idx  euribor3m  \\\n",
       "0      nonexistent          1.1          93.994          -36.4      4.857   \n",
       "1      nonexistent          1.1          93.994          -36.4      4.857   \n",
       "2      nonexistent          1.1          93.994          -36.4      4.857   \n",
       "3      nonexistent          1.1          93.994          -36.4      4.857   \n",
       "4      nonexistent          1.1          93.994          -36.4      4.857   \n",
       "...            ...          ...             ...            ...        ...   \n",
       "30483  nonexistent         -1.1          94.767          -50.8      1.028   \n",
       "30484  nonexistent         -1.1          94.767          -50.8      1.028   \n",
       "30485  nonexistent         -1.1          94.767          -50.8      1.028   \n",
       "30486  nonexistent         -1.1          94.767          -50.8      1.028   \n",
       "30487      failure         -1.1          94.767          -50.8      1.028   \n",
       "\n",
       "       nr.employed    y  \n",
       "0           5191.0   no  \n",
       "1           5191.0   no  \n",
       "2           5191.0   no  \n",
       "3           5191.0   no  \n",
       "4           5191.0   no  \n",
       "...            ...  ...  \n",
       "30483       4963.6  yes  \n",
       "30484       4963.6   no  \n",
       "30485       4963.6   no  \n",
       "30486       4963.6  yes  \n",
       "30487       4963.6   no  \n",
       "\n",
       "[30488 rows x 21 columns]"
      ]
     },
     "execution_count": 7,
     "metadata": {},
     "output_type": "execute_result"
    }
   ],
   "source": [
    "df.reset_index(inplace=True,drop=True)\n",
    "df"
   ]
  },
  {
   "cell_type": "code",
   "execution_count": null,
   "id": "2022b82f",
   "metadata": {
    "id": "tQrxRcrsXHpF",
    "papermill": {
     "duration": 0.015851,
     "end_time": "2022-08-26T11:48:21.384591",
     "exception": false,
     "start_time": "2022-08-26T11:48:21.368740",
     "status": "completed"
    },
    "tags": []
   },
   "outputs": [],
   "source": []
  },
  {
   "cell_type": "markdown",
   "id": "8c70c007",
   "metadata": {
    "id": "2QFFMEQiS-eu",
    "papermill": {
     "duration": 0.01578,
     "end_time": "2022-08-26T11:48:21.416361",
     "exception": false,
     "start_time": "2022-08-26T11:48:21.400581",
     "status": "completed"
    },
    "tags": []
   },
   "source": [
    "Since default feature is mostly \"no\" which is highly imbalanced, I also drop this feature."
   ]
  },
  {
   "cell_type": "code",
   "execution_count": 8,
   "id": "8c301b11",
   "metadata": {
    "execution": {
     "iopub.execute_input": "2022-08-26T11:48:21.451112Z",
     "iopub.status.busy": "2022-08-26T11:48:21.450063Z",
     "iopub.status.idle": "2022-08-26T11:48:21.460731Z",
     "shell.execute_reply": "2022-08-26T11:48:21.459385Z"
    },
    "id": "Ycw3ypSOS0tI",
    "outputId": "cb77c57c-597a-4fc5-b51f-21024e03e781",
    "papermill": {
     "duration": 0.030225,
     "end_time": "2022-08-26T11:48:21.462815",
     "exception": false,
     "start_time": "2022-08-26T11:48:21.432590",
     "status": "completed"
    },
    "tags": []
   },
   "outputs": [
    {
     "data": {
      "text/plain": [
       "no     30485\n",
       "yes        3\n",
       "Name: default, dtype: int64"
      ]
     },
     "execution_count": 8,
     "metadata": {},
     "output_type": "execute_result"
    }
   ],
   "source": [
    "df.default.value_counts()"
   ]
  },
  {
   "cell_type": "code",
   "execution_count": 9,
   "id": "23081672",
   "metadata": {
    "execution": {
     "iopub.execute_input": "2022-08-26T11:48:21.497373Z",
     "iopub.status.busy": "2022-08-26T11:48:21.496910Z",
     "iopub.status.idle": "2022-08-26T11:48:21.510198Z",
     "shell.execute_reply": "2022-08-26T11:48:21.509318Z"
    },
    "id": "h85pIQ8LS4zr",
    "papermill": {
     "duration": 0.033038,
     "end_time": "2022-08-26T11:48:21.512313",
     "exception": false,
     "start_time": "2022-08-26T11:48:21.479275",
     "status": "completed"
    },
    "tags": []
   },
   "outputs": [],
   "source": [
    "df.drop(\"default\",inplace=True,axis=1)"
   ]
  },
  {
   "cell_type": "code",
   "execution_count": 10,
   "id": "56e24375",
   "metadata": {
    "execution": {
     "iopub.execute_input": "2022-08-26T11:48:21.547485Z",
     "iopub.status.busy": "2022-08-26T11:48:21.546786Z",
     "iopub.status.idle": "2022-08-26T11:48:21.552883Z",
     "shell.execute_reply": "2022-08-26T11:48:21.552056Z"
    },
    "id": "PhjGQskxRSCb",
    "outputId": "acfcf623-5e11-4805-8856-4cb244ff5915",
    "papermill": {
     "duration": 0.025906,
     "end_time": "2022-08-26T11:48:21.554943",
     "exception": false,
     "start_time": "2022-08-26T11:48:21.529037",
     "status": "completed"
    },
    "tags": []
   },
   "outputs": [
    {
     "data": {
      "text/plain": [
       "array(['age', 'job', 'marital', 'education', 'housing', 'loan', 'contact',\n",
       "       'month', 'day_of_week', 'duration', 'campaign', 'pdays',\n",
       "       'previous', 'poutcome', 'emp.var.rate', 'cons.price.idx',\n",
       "       'cons.conf.idx', 'euribor3m', 'nr.employed', 'y'], dtype=object)"
      ]
     },
     "execution_count": 10,
     "metadata": {},
     "output_type": "execute_result"
    }
   ],
   "source": [
    "df.columns.values"
   ]
  },
  {
   "cell_type": "code",
   "execution_count": null,
   "id": "3f3905ab",
   "metadata": {
    "id": "oeWgynSyZhyJ",
    "papermill": {
     "duration": 0.01649,
     "end_time": "2022-08-26T11:48:21.588082",
     "exception": false,
     "start_time": "2022-08-26T11:48:21.571592",
     "status": "completed"
    },
    "tags": []
   },
   "outputs": [],
   "source": []
  },
  {
   "cell_type": "markdown",
   "id": "7754b3a0",
   "metadata": {
    "id": "qShDYGDFZiRb",
    "papermill": {
     "duration": 0.016294,
     "end_time": "2022-08-26T11:48:21.621107",
     "exception": false,
     "start_time": "2022-08-26T11:48:21.604813",
     "status": "completed"
    },
    "tags": []
   },
   "source": [
    "## Exploratory Data Analysis and Pre-Processing"
   ]
  },
  {
   "cell_type": "code",
   "execution_count": 11,
   "id": "37d5c46e",
   "metadata": {
    "execution": {
     "iopub.execute_input": "2022-08-26T11:48:21.656767Z",
     "iopub.status.busy": "2022-08-26T11:48:21.656037Z",
     "iopub.status.idle": "2022-08-26T11:48:23.809623Z",
     "shell.execute_reply": "2022-08-26T11:48:23.808214Z"
    },
    "id": "w-1I_aKTRSeV",
    "outputId": "32a4b4a2-2e26-4811-a9c9-1ee4d7192716",
    "papermill": {
     "duration": 2.174826,
     "end_time": "2022-08-26T11:48:23.812583",
     "exception": false,
     "start_time": "2022-08-26T11:48:21.637757",
     "status": "completed"
    },
    "tags": []
   },
   "outputs": [
    {
     "data": {
      "image/png": "[encoded data removed]",
      "text/plain": [
       "<Figure size 1440x1224 with 12 Axes>"
      ]
     },
     "metadata": {
      "needs_background": "light"
     },
     "output_type": "display_data"
    }
   ],
   "source": [
    "fig, ax = plt.subplots(3,4, figsize=(20,17))\n",
    "cat = df.select_dtypes('object').columns.to_list()\n",
    "cat = cat[:-1]\n",
    "ax = ax.ravel()\n",
    "position = 0\n",
    "for i in cat:\n",
    "    \n",
    "    order = df[i].value_counts().index\n",
    "    sns.countplot(data=df, x=i, ax=ax[position], hue='y', palette='GnBu', order=order)\n",
    "    ax[position].tick_params(labelrotation=90)\n",
    "    ax[position].set_title(i, fontdict={'fontsize':17})\n",
    "    \n",
    "    position += 1\n",
    "\n",
    "plt.subplots_adjust(hspace=0.7)\n",
    "\n",
    "plt.show()"
   ]
  },
  {
   "cell_type": "markdown",
   "id": "fa0ee699",
   "metadata": {
    "id": "5bhdEJCEZf7D",
    "papermill": {
     "duration": 0.017829,
     "end_time": "2022-08-26T11:48:23.849586",
     "exception": false,
     "start_time": "2022-08-26T11:48:23.831757",
     "status": "completed"
    },
    "tags": []
   },
   "source": [
    "Clearly, the data is imbalanced. "
   ]
  },
  {
   "cell_type": "markdown",
   "id": "411ef481",
   "metadata": {
    "id": "PtsD_GumfDLv",
    "papermill": {
     "duration": 0.018114,
     "end_time": "2022-08-26T11:48:23.885883",
     "exception": false,
     "start_time": "2022-08-26T11:48:23.867769",
     "status": "completed"
    },
    "tags": []
   },
   "source": [
    "For the education feature, there are some similar values like basic.9y, basic.6y and basic.4y. I convert them to \"middle.shool\""
   ]
  },
  {
   "cell_type": "code",
   "execution_count": 12,
   "id": "8d5ffec1",
   "metadata": {
    "execution": {
     "iopub.execute_input": "2022-08-26T11:48:23.925828Z",
     "iopub.status.busy": "2022-08-26T11:48:23.925083Z",
     "iopub.status.idle": "2022-08-26T11:48:23.946293Z",
     "shell.execute_reply": "2022-08-26T11:48:23.945302Z"
    },
    "id": "wqlHMkLVe5UE",
    "outputId": "5f3464e4-de0e-411b-8ebd-9e3e5ebb6c86",
    "papermill": {
     "duration": 0.043242,
     "end_time": "2022-08-26T11:48:23.948527",
     "exception": false,
     "start_time": "2022-08-26T11:48:23.905285",
     "status": "completed"
    },
    "tags": []
   },
   "outputs": [
    {
     "data": {
      "text/plain": [
       "university.degree      10412\n",
       "middle.school           8045\n",
       "high.school             7699\n",
       "professional.course     4321\n",
       "illiterate                11\n",
       "Name: education, dtype: int64"
      ]
     },
     "execution_count": 12,
     "metadata": {},
     "output_type": "execute_result"
    }
   ],
   "source": [
    "lst=['basic.9y','basic.6y','basic.4y']\n",
    "for i in lst:\n",
    "    df.loc[df['education'] == i, 'education'] = \"middle.school\"\n",
    "\n",
    "df['education'].value_counts()"
   ]
  },
  {
   "cell_type": "markdown",
   "id": "aba356e1",
   "metadata": {
    "id": "lgUYhi0rigCE",
    "papermill": {
     "duration": 0.017881,
     "end_time": "2022-08-26T11:48:23.984664",
     "exception": false,
     "start_time": "2022-08-26T11:48:23.966783",
     "status": "completed"
    },
    "tags": []
   },
   "source": [
    "* In poutcome feature, there is also a problem with missing value, but since it is too much data, I convert them to 0."
   ]
  },
  {
   "cell_type": "code",
   "execution_count": 13,
   "id": "1683b6a1",
   "metadata": {
    "execution": {
     "iopub.execute_input": "2022-08-26T11:48:24.023530Z",
     "iopub.status.busy": "2022-08-26T11:48:24.022715Z",
     "iopub.status.idle": "2022-08-26T11:48:24.032120Z",
     "shell.execute_reply": "2022-08-26T11:48:24.031224Z"
    },
    "id": "jjlmf4P1iCfs",
    "outputId": "e6c3dcd8-7494-42e9-9e97-35f148efe9df",
    "papermill": {
     "duration": 0.031318,
     "end_time": "2022-08-26T11:48:24.034256",
     "exception": false,
     "start_time": "2022-08-26T11:48:24.002938",
     "status": "completed"
    },
    "tags": []
   },
   "outputs": [
    {
     "data": {
      "text/plain": [
       "nonexistent    25836\n",
       "failure         3461\n",
       "success         1191\n",
       "Name: poutcome, dtype: int64"
      ]
     },
     "execution_count": 13,
     "metadata": {},
     "output_type": "execute_result"
    }
   ],
   "source": [
    "df.poutcome.value_counts()"
   ]
  },
  {
   "cell_type": "code",
   "execution_count": 14,
   "id": "a6538090",
   "metadata": {
    "execution": {
     "iopub.execute_input": "2022-08-26T11:48:24.074804Z",
     "iopub.status.busy": "2022-08-26T11:48:24.074026Z",
     "iopub.status.idle": "2022-08-26T11:48:24.085159Z",
     "shell.execute_reply": "2022-08-26T11:48:24.084218Z"
    },
    "id": "GMYp7xi_ia0T",
    "papermill": {
     "duration": 0.035126,
     "end_time": "2022-08-26T11:48:24.087750",
     "exception": false,
     "start_time": "2022-08-26T11:48:24.052624",
     "status": "completed"
    },
    "tags": []
   },
   "outputs": [],
   "source": [
    "# binary if were was an outcome of marketing campane\n",
    "df.poutcome = df.poutcome.map({'nonexistent':0, 'failure':0, 'success':1}).astype('uint8') "
   ]
  },
  {
   "cell_type": "markdown",
   "id": "2c517931",
   "metadata": {
    "id": "Tbturl5wiw22",
    "papermill": {
     "duration": 0.018336,
     "end_time": "2022-08-26T11:48:24.124755",
     "exception": false,
     "start_time": "2022-08-26T11:48:24.106419",
     "status": "completed"
    },
    "tags": []
   },
   "source": []
  },
  {
   "cell_type": "code",
   "execution_count": 15,
   "id": "e18194b8",
   "metadata": {
    "execution": {
     "iopub.execute_input": "2022-08-26T11:48:24.164076Z",
     "iopub.status.busy": "2022-08-26T11:48:24.163336Z",
     "iopub.status.idle": "2022-08-26T11:48:25.971158Z",
     "shell.execute_reply": "2022-08-26T11:48:25.969986Z"
    },
    "id": "eJ2ba9DfGp7e",
    "outputId": "4bc056e0-bcd8-4588-bfdc-1c73be2607dd",
    "papermill": {
     "duration": 1.831384,
     "end_time": "2022-08-26T11:48:25.974755",
     "exception": false,
     "start_time": "2022-08-26T11:48:24.143371",
     "status": "completed"
    },
    "tags": []
   },
   "outputs": [
    {
     "data": {
      "image/png": "[encoded data removed]",
      "text/plain": [
       "<Figure size 1008x720 with 12 Axes>"
      ]
     },
     "metadata": {
      "needs_background": "light"
     },
     "output_type": "display_data"
    }
   ],
   "source": [
    "df.hist(bins=20, figsize=(14,10))\n",
    "plt.show()"
   ]
  },
  {
   "cell_type": "code",
   "execution_count": 16,
   "id": "6d32e085",
   "metadata": {
    "execution": {
     "iopub.execute_input": "2022-08-26T11:48:26.023085Z",
     "iopub.status.busy": "2022-08-26T11:48:26.021720Z",
     "iopub.status.idle": "2022-08-26T11:48:26.081793Z",
     "shell.execute_reply": "2022-08-26T11:48:26.080515Z"
    },
    "id": "d4SXCpcGatSa",
    "outputId": "780ced32-399f-419e-e5e0-798add081df9",
    "papermill": {
     "duration": 0.083828,
     "end_time": "2022-08-26T11:48:26.084413",
     "exception": false,
     "start_time": "2022-08-26T11:48:26.000585",
     "status": "completed"
    },
    "tags": []
   },
   "outputs": [
    {
     "data": {
      "text/html": [
       "<div>\n",
       "<style scoped>\n",
       "    .dataframe tbody tr th:only-of-type {\n",
       "        vertical-align: middle;\n",
       "    }\n",
       "\n",
       "    .dataframe tbody tr th {\n",
       "        vertical-align: top;\n",
       "    }\n",
       "\n",
       "    .dataframe thead th {\n",
       "        text-align: right;\n",
       "    }\n",
       "</style>\n",
       "<table border=\"1\" class=\"dataframe\">\n",
       "  <thead>\n",
       "    <tr style=\"text-align: right;\">\n",
       "      <th></th>\n",
       "      <th>age</th>\n",
       "      <th>duration</th>\n",
       "      <th>campaign</th>\n",
       "      <th>pdays</th>\n",
       "      <th>previous</th>\n",
       "      <th>poutcome</th>\n",
       "      <th>emp.var.rate</th>\n",
       "      <th>cons.price.idx</th>\n",
       "      <th>cons.conf.idx</th>\n",
       "      <th>euribor3m</th>\n",
       "      <th>nr.employed</th>\n",
       "    </tr>\n",
       "  </thead>\n",
       "  <tbody>\n",
       "    <tr>\n",
       "      <th>count</th>\n",
       "      <td>30488.000000</td>\n",
       "      <td>30488.000000</td>\n",
       "      <td>30488.000000</td>\n",
       "      <td>30488.000000</td>\n",
       "      <td>30488.000000</td>\n",
       "      <td>30488.000000</td>\n",
       "      <td>30488.000000</td>\n",
       "      <td>30488.000000</td>\n",
       "      <td>30488.000000</td>\n",
       "      <td>30488.000000</td>\n",
       "      <td>30488.000000</td>\n",
       "    </tr>\n",
       "    <tr>\n",
       "      <th>mean</th>\n",
       "      <td>39.030012</td>\n",
       "      <td>259.484092</td>\n",
       "      <td>2.521451</td>\n",
       "      <td>956.332295</td>\n",
       "      <td>0.194273</td>\n",
       "      <td>0.039065</td>\n",
       "      <td>-0.071510</td>\n",
       "      <td>93.523311</td>\n",
       "      <td>-40.602263</td>\n",
       "      <td>3.459938</td>\n",
       "      <td>5160.813409</td>\n",
       "    </tr>\n",
       "    <tr>\n",
       "      <th>std</th>\n",
       "      <td>10.333529</td>\n",
       "      <td>261.714262</td>\n",
       "      <td>2.720150</td>\n",
       "      <td>201.373292</td>\n",
       "      <td>0.522788</td>\n",
       "      <td>0.193752</td>\n",
       "      <td>1.610399</td>\n",
       "      <td>0.585374</td>\n",
       "      <td>4.789249</td>\n",
       "      <td>1.777231</td>\n",
       "      <td>75.158065</td>\n",
       "    </tr>\n",
       "    <tr>\n",
       "      <th>min</th>\n",
       "      <td>17.000000</td>\n",
       "      <td>0.000000</td>\n",
       "      <td>1.000000</td>\n",
       "      <td>0.000000</td>\n",
       "      <td>0.000000</td>\n",
       "      <td>0.000000</td>\n",
       "      <td>-3.400000</td>\n",
       "      <td>92.201000</td>\n",
       "      <td>-50.800000</td>\n",
       "      <td>0.634000</td>\n",
       "      <td>4963.600000</td>\n",
       "    </tr>\n",
       "    <tr>\n",
       "      <th>25%</th>\n",
       "      <td>31.000000</td>\n",
       "      <td>103.000000</td>\n",
       "      <td>1.000000</td>\n",
       "      <td>999.000000</td>\n",
       "      <td>0.000000</td>\n",
       "      <td>0.000000</td>\n",
       "      <td>-1.800000</td>\n",
       "      <td>93.075000</td>\n",
       "      <td>-42.700000</td>\n",
       "      <td>1.313000</td>\n",
       "      <td>5099.100000</td>\n",
       "    </tr>\n",
       "    <tr>\n",
       "      <th>50%</th>\n",
       "      <td>37.000000</td>\n",
       "      <td>181.000000</td>\n",
       "      <td>2.000000</td>\n",
       "      <td>999.000000</td>\n",
       "      <td>0.000000</td>\n",
       "      <td>0.000000</td>\n",
       "      <td>1.100000</td>\n",
       "      <td>93.444000</td>\n",
       "      <td>-41.800000</td>\n",
       "      <td>4.856000</td>\n",
       "      <td>5191.000000</td>\n",
       "    </tr>\n",
       "    <tr>\n",
       "      <th>75%</th>\n",
       "      <td>45.000000</td>\n",
       "      <td>321.000000</td>\n",
       "      <td>3.000000</td>\n",
       "      <td>999.000000</td>\n",
       "      <td>0.000000</td>\n",
       "      <td>0.000000</td>\n",
       "      <td>1.400000</td>\n",
       "      <td>93.994000</td>\n",
       "      <td>-36.400000</td>\n",
       "      <td>4.961000</td>\n",
       "      <td>5228.100000</td>\n",
       "    </tr>\n",
       "    <tr>\n",
       "      <th>max</th>\n",
       "      <td>95.000000</td>\n",
       "      <td>4918.000000</td>\n",
       "      <td>43.000000</td>\n",
       "      <td>999.000000</td>\n",
       "      <td>7.000000</td>\n",
       "      <td>1.000000</td>\n",
       "      <td>1.400000</td>\n",
       "      <td>94.767000</td>\n",
       "      <td>-26.900000</td>\n",
       "      <td>5.045000</td>\n",
       "      <td>5228.100000</td>\n",
       "    </tr>\n",
       "  </tbody>\n",
       "</table>\n",
       "</div>"
      ],
      "text/plain": [
       "                age      duration      campaign         pdays      previous  \\\n",
       "count  30488.000000  30488.000000  30488.000000  30488.000000  30488.000000   \n",
       "mean      39.030012    259.484092      2.521451    956.332295      0.194273   \n",
       "std       10.333529    261.714262      2.720150    201.373292      0.522788   \n",
       "min       17.000000      0.000000      1.000000      0.000000      0.000000   \n",
       "25%       31.000000    103.000000      1.000000    999.000000      0.000000   \n",
       "50%       37.000000    181.000000      2.000000    999.000000      0.000000   \n",
       "75%       45.000000    321.000000      3.000000    999.000000      0.000000   \n",
       "max       95.000000   4918.000000     43.000000    999.000000      7.000000   \n",
       "\n",
       "           poutcome  emp.var.rate  cons.price.idx  cons.conf.idx  \\\n",
       "count  30488.000000  30488.000000    30488.000000   30488.000000   \n",
       "mean       0.039065     -0.071510       93.523311     -40.602263   \n",
       "std        0.193752      1.610399        0.585374       4.789249   \n",
       "min        0.000000     -3.400000       92.201000     -50.800000   \n",
       "25%        0.000000     -1.800000       93.075000     -42.700000   \n",
       "50%        0.000000      1.100000       93.444000     -41.800000   \n",
       "75%        0.000000      1.400000       93.994000     -36.400000   \n",
       "max        1.000000      1.400000       94.767000     -26.900000   \n",
       "\n",
       "          euribor3m   nr.employed  \n",
       "count  30488.000000  30488.000000  \n",
       "mean       3.459938   5160.813409  \n",
       "std        1.777231     75.158065  \n",
       "min        0.634000   4963.600000  \n",
       "25%        1.313000   5099.100000  \n",
       "50%        4.856000   5191.000000  \n",
       "75%        4.961000   5228.100000  \n",
       "max        5.045000   5228.100000  "
      ]
     },
     "execution_count": 16,
     "metadata": {},
     "output_type": "execute_result"
    }
   ],
   "source": [
    "df.describe()"
   ]
  },
  {
   "cell_type": "markdown",
   "id": "b550aaba",
   "metadata": {
    "id": "eSYucEhcX1_e",
    "papermill": {
     "duration": 0.019834,
     "end_time": "2022-08-26T11:48:26.123952",
     "exception": false,
     "start_time": "2022-08-26T11:48:26.104118",
     "status": "completed"
    },
    "tags": []
   },
   "source": [
    "* Age range, from 18 to 95 years old. However, a majority of age of 30s and 40s (33 to 48 years old fall within the 25th to 75th percentiles). The distribution of customer age is fairly normal with a small standard deviation.\n",
    "* 'emp.var.rate', 'cons.price.idx', 'cons.conf.idx', 'euribor3m' and 'nr.employed' don't show any apparent distribution"
   ]
  },
  {
   "cell_type": "markdown",
   "id": "5b47fe87",
   "metadata": {
    "id": "BY4QeD3ad4UV",
    "papermill": {
     "duration": 0.019336,
     "end_time": "2022-08-26T11:48:26.162932",
     "exception": false,
     "start_time": "2022-08-26T11:48:26.143596",
     "status": "completed"
    },
    "tags": []
   },
   "source": [
    "There is also a issue in pdays feature. if the value is 999, then it will be replaced with a 0 which means that the client was not previously contacted."
   ]
  },
  {
   "cell_type": "code",
   "execution_count": 17,
   "id": "8aa4498d",
   "metadata": {
    "execution": {
     "iopub.execute_input": "2022-08-26T11:48:26.204193Z",
     "iopub.status.busy": "2022-08-26T11:48:26.203752Z",
     "iopub.status.idle": "2022-08-26T11:48:26.212815Z",
     "shell.execute_reply": "2022-08-26T11:48:26.211976Z"
    },
    "id": "lWFmM1Skd3av",
    "outputId": "be05756c-ded2-472a-fdf4-9d9e2d97af2f",
    "papermill": {
     "duration": 0.032098,
     "end_time": "2022-08-26T11:48:26.214832",
     "exception": false,
     "start_time": "2022-08-26T11:48:26.182734",
     "status": "completed"
    },
    "tags": []
   },
   "outputs": [
    {
     "data": {
      "text/plain": [
       "999    29178\n",
       "3        381\n",
       "6        363\n",
       "4        102\n",
       "2         53\n",
       "9         53\n",
       "7         50\n",
       "12        50\n",
       "5         43\n",
       "10        40\n",
       "13        33\n",
       "11        25\n",
       "15        22\n",
       "1         21\n",
       "14        17\n",
       "0         14\n",
       "8         13\n",
       "16         8\n",
       "17         6\n",
       "18         5\n",
       "22         3\n",
       "19         3\n",
       "21         2\n",
       "25         1\n",
       "26         1\n",
       "27         1\n",
       "Name: pdays, dtype: int64"
      ]
     },
     "execution_count": 17,
     "metadata": {},
     "output_type": "execute_result"
    }
   ],
   "source": [
    "df.pdays.value_counts()"
   ]
  },
  {
   "cell_type": "code",
   "execution_count": 18,
   "id": "1a664cd9",
   "metadata": {
    "execution": {
     "iopub.execute_input": "2022-08-26T11:48:26.257299Z",
     "iopub.status.busy": "2022-08-26T11:48:26.256636Z",
     "iopub.status.idle": "2022-08-26T11:48:26.262805Z",
     "shell.execute_reply": "2022-08-26T11:48:26.261827Z"
    },
    "id": "N27ReFnIeZU6",
    "papermill": {
     "duration": 0.030261,
     "end_time": "2022-08-26T11:48:26.265150",
     "exception": false,
     "start_time": "2022-08-26T11:48:26.234889",
     "status": "completed"
    },
    "tags": []
   },
   "outputs": [],
   "source": [
    "df.loc[df['pdays'] == 999, 'pdays'] = 0"
   ]
  },
  {
   "cell_type": "code",
   "execution_count": null,
   "id": "d502f4b7",
   "metadata": {
    "id": "dG2DnoybhcB7",
    "papermill": {
     "duration": 0.019433,
     "end_time": "2022-08-26T11:48:26.304613",
     "exception": false,
     "start_time": "2022-08-26T11:48:26.285180",
     "status": "completed"
    },
    "tags": []
   },
   "outputs": [],
   "source": []
  },
  {
   "cell_type": "code",
   "execution_count": 19,
   "id": "08e24e1a",
   "metadata": {
    "execution": {
     "iopub.execute_input": "2022-08-26T11:48:26.346887Z",
     "iopub.status.busy": "2022-08-26T11:48:26.346244Z",
     "iopub.status.idle": "2022-08-26T11:48:26.354457Z",
     "shell.execute_reply": "2022-08-26T11:48:26.353320Z"
    },
    "id": "SY_cj00Xg1lz",
    "outputId": "41b9a6a6-65c6-46e0-c5ef-28e02979096d",
    "papermill": {
     "duration": 0.032462,
     "end_time": "2022-08-26T11:48:26.356859",
     "exception": false,
     "start_time": "2022-08-26T11:48:26.324397",
     "status": "completed"
    },
    "tags": []
   },
   "outputs": [
    {
     "data": {
      "text/plain": [
       "0     29192\n",
       "3       381\n",
       "6       363\n",
       "4       102\n",
       "2        53\n",
       "9        53\n",
       "7        50\n",
       "12       50\n",
       "5        43\n",
       "10       40\n",
       "13       33\n",
       "11       25\n",
       "15       22\n",
       "1        21\n",
       "14       17\n",
       "8        13\n",
       "16        8\n",
       "17        6\n",
       "18        5\n",
       "22        3\n",
       "19        3\n",
       "21        2\n",
       "25        1\n",
       "26        1\n",
       "27        1\n",
       "Name: pdays, dtype: int64"
      ]
     },
     "execution_count": 19,
     "metadata": {},
     "output_type": "execute_result"
    }
   ],
   "source": [
    "df.pdays.value_counts()"
   ]
  },
  {
   "cell_type": "code",
   "execution_count": 20,
   "id": "ab648f00",
   "metadata": {
    "execution": {
     "iopub.execute_input": "2022-08-26T11:48:26.400756Z",
     "iopub.status.busy": "2022-08-26T11:48:26.400340Z",
     "iopub.status.idle": "2022-08-26T11:48:26.409225Z",
     "shell.execute_reply": "2022-08-26T11:48:26.408008Z"
    },
    "id": "DK49_vJ0g6Px",
    "outputId": "19553890-9599-4581-c9b5-18ea27ae638f",
    "papermill": {
     "duration": 0.033981,
     "end_time": "2022-08-26T11:48:26.411560",
     "exception": false,
     "start_time": "2022-08-26T11:48:26.377579",
     "status": "completed"
    },
    "tags": []
   },
   "outputs": [
    {
     "data": {
      "text/plain": [
       "0    25836\n",
       "1     3752\n",
       "2      633\n",
       "3      190\n",
       "4       56\n",
       "5       16\n",
       "6        4\n",
       "7        1\n",
       "Name: previous, dtype: int64"
      ]
     },
     "execution_count": 20,
     "metadata": {},
     "output_type": "execute_result"
    }
   ],
   "source": [
    "df.previous.value_counts()"
   ]
  },
  {
   "cell_type": "code",
   "execution_count": 21,
   "id": "700d81ea",
   "metadata": {
    "execution": {
     "iopub.execute_input": "2022-08-26T11:48:26.454717Z",
     "iopub.status.busy": "2022-08-26T11:48:26.453600Z",
     "iopub.status.idle": "2022-08-26T11:48:26.646633Z",
     "shell.execute_reply": "2022-08-26T11:48:26.645419Z"
    },
    "id": "UWIN6x8iYBru",
    "outputId": "07997c91-cbea-41de-8a97-9d4f0ebd7bbc",
    "papermill": {
     "duration": 0.217564,
     "end_time": "2022-08-26T11:48:26.649551",
     "exception": false,
     "start_time": "2022-08-26T11:48:26.431987",
     "status": "completed"
    },
    "tags": []
   },
   "outputs": [
    {
     "data": {
      "image/png": "[encoded data removed]",
      "text/plain": [
       "<Figure size 576x576 with 2 Axes>"
      ]
     },
     "metadata": {
      "needs_background": "light"
     },
     "output_type": "display_data"
    }
   ],
   "source": [
    "df[['campaign']].plot(kind = 'box', \n",
    "                                              figsize = (8,8),\n",
    "                                              subplots = True, layout = (1,2),\n",
    "                                              sharex = False, sharey = False,\n",
    "                                              title='The Distribution of Campaign')\n",
    "plt.show()"
   ]
  },
  {
   "cell_type": "markdown",
   "id": "fcd74487",
   "metadata": {
    "id": "EhCKnOJNZDBa",
    "papermill": {
     "duration": 0.020538,
     "end_time": "2022-08-26T11:48:26.691210",
     "exception": false,
     "start_time": "2022-08-26T11:48:26.670672",
     "status": "completed"
    },
    "tags": []
   },
   "source": [
    "* Most clients have been reached by the bank for one to three times, which is reasonable. However, some clients have been contacted by as high as 58 times, which is not normal. "
   ]
  },
  {
   "cell_type": "code",
   "execution_count": 22,
   "id": "05226732",
   "metadata": {
    "execution": {
     "iopub.execute_input": "2022-08-26T11:48:26.736429Z",
     "iopub.status.busy": "2022-08-26T11:48:26.735717Z",
     "iopub.status.idle": "2022-08-26T11:48:26.747010Z",
     "shell.execute_reply": "2022-08-26T11:48:26.745940Z"
    },
    "id": "8QoD7Q5ML5W-",
    "papermill": {
     "duration": 0.037148,
     "end_time": "2022-08-26T11:48:26.749426",
     "exception": false,
     "start_time": "2022-08-26T11:48:26.712278",
     "status": "completed"
    },
    "tags": []
   },
   "outputs": [],
   "source": [
    "# Convert target variable into numeric\n",
    "df.y = df.y.map({'no':0, 'yes':1}).astype('uint8')"
   ]
  },
  {
   "cell_type": "code",
   "execution_count": 23,
   "id": "7ca255e4",
   "metadata": {
    "execution": {
     "iopub.execute_input": "2022-08-26T11:48:26.792663Z",
     "iopub.status.busy": "2022-08-26T11:48:26.792262Z",
     "iopub.status.idle": "2022-08-26T11:48:27.741821Z",
     "shell.execute_reply": "2022-08-26T11:48:27.740317Z"
    },
    "id": "Geeo2SxlbzrH",
    "outputId": "bda1ab14-cd92-46f9-ce63-c6c079d66e70",
    "papermill": {
     "duration": 0.975542,
     "end_time": "2022-08-26T11:48:27.745617",
     "exception": false,
     "start_time": "2022-08-26T11:48:26.770075",
     "status": "completed"
    },
    "tags": []
   },
   "outputs": [
    {
     "data": {
      "image/png": "[encoded data removed]",
      "text/plain": [
       "<Figure size 1008x648 with 2 Axes>"
      ]
     },
     "metadata": {
      "needs_background": "light"
     },
     "output_type": "display_data"
    }
   ],
   "source": [
    "fig, ax = plt.subplots(figsize=(14,9))\n",
    "sns.heatmap(df.corr(), vmin=-1, vmax=1, cmap=sns.diverging_palette(20, 220, as_cmap=True), annot=True, linewidths=.5)\n",
    "plt.show()"
   ]
  },
  {
   "cell_type": "markdown",
   "id": "bff85108",
   "metadata": {
    "id": "j9y1qxtsWinc",
    "papermill": {
     "duration": 0.023505,
     "end_time": "2022-08-26T11:48:27.792723",
     "exception": false,
     "start_time": "2022-08-26T11:48:27.769218",
     "status": "completed"
    },
    "tags": []
   },
   "source": [
    "* Duration highly affects the output target (e.g., if duration=0 then y=‘no’). Yet, the duration is not known before a call is performed. Also, after the end of the call y is obviously known. Thus, this input should only be included for benchmark purposes and should be discarded if the intention is to have a realistic predictive model."
   ]
  },
  {
   "cell_type": "markdown",
   "id": "d124fd95",
   "metadata": {
    "id": "Xd5_2LjZhm8q",
    "papermill": {
     "duration": 0.022404,
     "end_time": "2022-08-26T11:48:27.837947",
     "exception": false,
     "start_time": "2022-08-26T11:48:27.815543",
     "status": "completed"
    },
    "tags": []
   },
   "source": [
    "Since pdays and previous features are correlated, I convert previous feature to categorical feature."
   ]
  },
  {
   "cell_type": "code",
   "execution_count": 24,
   "id": "5ec12834",
   "metadata": {
    "execution": {
     "iopub.execute_input": "2022-08-26T11:48:27.886362Z",
     "iopub.status.busy": "2022-08-26T11:48:27.885618Z",
     "iopub.status.idle": "2022-08-26T11:48:27.904448Z",
     "shell.execute_reply": "2022-08-26T11:48:27.903395Z"
    },
    "id": "myrOxUhbgz-i",
    "papermill": {
     "duration": 0.046658,
     "end_time": "2022-08-26T11:48:27.907323",
     "exception": false,
     "start_time": "2022-08-26T11:48:27.860665",
     "status": "completed"
    },
    "tags": []
   },
   "outputs": [],
   "source": [
    "df.previous = df.previous.apply(lambda x: 1 if x > 0 else 0).astype('uint8') "
   ]
  },
  {
   "cell_type": "code",
   "execution_count": 25,
   "id": "1036ff84",
   "metadata": {
    "execution": {
     "iopub.execute_input": "2022-08-26T11:48:27.954629Z",
     "iopub.status.busy": "2022-08-26T11:48:27.954208Z",
     "iopub.status.idle": "2022-08-26T11:48:27.977415Z",
     "shell.execute_reply": "2022-08-26T11:48:27.976178Z"
    },
    "id": "szrO4dweh3g0",
    "outputId": "7c393a4c-b706-443c-9c91-ed7e28dd6ced",
    "papermill": {
     "duration": 0.049543,
     "end_time": "2022-08-26T11:48:27.979621",
     "exception": false,
     "start_time": "2022-08-26T11:48:27.930078",
     "status": "completed"
    },
    "tags": []
   },
   "outputs": [
    {
     "data": {
      "text/html": [
       "<div>\n",
       "<style scoped>\n",
       "    .dataframe tbody tr th:only-of-type {\n",
       "        vertical-align: middle;\n",
       "    }\n",
       "\n",
       "    .dataframe tbody tr th {\n",
       "        vertical-align: top;\n",
       "    }\n",
       "\n",
       "    .dataframe thead th {\n",
       "        text-align: right;\n",
       "    }\n",
       "</style>\n",
       "<table border=\"1\" class=\"dataframe\">\n",
       "  <thead>\n",
       "    <tr style=\"text-align: right;\">\n",
       "      <th></th>\n",
       "      <th>age</th>\n",
       "      <th>job</th>\n",
       "      <th>marital</th>\n",
       "      <th>education</th>\n",
       "      <th>housing</th>\n",
       "      <th>loan</th>\n",
       "      <th>contact</th>\n",
       "      <th>month</th>\n",
       "      <th>day_of_week</th>\n",
       "      <th>duration</th>\n",
       "      <th>campaign</th>\n",
       "      <th>pdays</th>\n",
       "      <th>previous</th>\n",
       "      <th>poutcome</th>\n",
       "      <th>emp.var.rate</th>\n",
       "      <th>cons.price.idx</th>\n",
       "      <th>cons.conf.idx</th>\n",
       "      <th>euribor3m</th>\n",
       "      <th>nr.employed</th>\n",
       "      <th>y</th>\n",
       "    </tr>\n",
       "  </thead>\n",
       "  <tbody>\n",
       "    <tr>\n",
       "      <th>0</th>\n",
       "      <td>56</td>\n",
       "      <td>housemaid</td>\n",
       "      <td>married</td>\n",
       "      <td>middle.school</td>\n",
       "      <td>no</td>\n",
       "      <td>no</td>\n",
       "      <td>telephone</td>\n",
       "      <td>may</td>\n",
       "      <td>mon</td>\n",
       "      <td>261</td>\n",
       "      <td>1</td>\n",
       "      <td>0</td>\n",
       "      <td>0</td>\n",
       "      <td>0</td>\n",
       "      <td>1.1</td>\n",
       "      <td>93.994</td>\n",
       "      <td>-36.4</td>\n",
       "      <td>4.857</td>\n",
       "      <td>5191.0</td>\n",
       "      <td>0</td>\n",
       "    </tr>\n",
       "    <tr>\n",
       "      <th>1</th>\n",
       "      <td>37</td>\n",
       "      <td>services</td>\n",
       "      <td>married</td>\n",
       "      <td>high.school</td>\n",
       "      <td>yes</td>\n",
       "      <td>no</td>\n",
       "      <td>telephone</td>\n",
       "      <td>may</td>\n",
       "      <td>mon</td>\n",
       "      <td>226</td>\n",
       "      <td>1</td>\n",
       "      <td>0</td>\n",
       "      <td>0</td>\n",
       "      <td>0</td>\n",
       "      <td>1.1</td>\n",
       "      <td>93.994</td>\n",
       "      <td>-36.4</td>\n",
       "      <td>4.857</td>\n",
       "      <td>5191.0</td>\n",
       "      <td>0</td>\n",
       "    </tr>\n",
       "    <tr>\n",
       "      <th>2</th>\n",
       "      <td>40</td>\n",
       "      <td>admin.</td>\n",
       "      <td>married</td>\n",
       "      <td>middle.school</td>\n",
       "      <td>no</td>\n",
       "      <td>no</td>\n",
       "      <td>telephone</td>\n",
       "      <td>may</td>\n",
       "      <td>mon</td>\n",
       "      <td>151</td>\n",
       "      <td>1</td>\n",
       "      <td>0</td>\n",
       "      <td>0</td>\n",
       "      <td>0</td>\n",
       "      <td>1.1</td>\n",
       "      <td>93.994</td>\n",
       "      <td>-36.4</td>\n",
       "      <td>4.857</td>\n",
       "      <td>5191.0</td>\n",
       "      <td>0</td>\n",
       "    </tr>\n",
       "    <tr>\n",
       "      <th>3</th>\n",
       "      <td>56</td>\n",
       "      <td>services</td>\n",
       "      <td>married</td>\n",
       "      <td>high.school</td>\n",
       "      <td>no</td>\n",
       "      <td>yes</td>\n",
       "      <td>telephone</td>\n",
       "      <td>may</td>\n",
       "      <td>mon</td>\n",
       "      <td>307</td>\n",
       "      <td>1</td>\n",
       "      <td>0</td>\n",
       "      <td>0</td>\n",
       "      <td>0</td>\n",
       "      <td>1.1</td>\n",
       "      <td>93.994</td>\n",
       "      <td>-36.4</td>\n",
       "      <td>4.857</td>\n",
       "      <td>5191.0</td>\n",
       "      <td>0</td>\n",
       "    </tr>\n",
       "    <tr>\n",
       "      <th>4</th>\n",
       "      <td>59</td>\n",
       "      <td>admin.</td>\n",
       "      <td>married</td>\n",
       "      <td>professional.course</td>\n",
       "      <td>no</td>\n",
       "      <td>no</td>\n",
       "      <td>telephone</td>\n",
       "      <td>may</td>\n",
       "      <td>mon</td>\n",
       "      <td>139</td>\n",
       "      <td>1</td>\n",
       "      <td>0</td>\n",
       "      <td>0</td>\n",
       "      <td>0</td>\n",
       "      <td>1.1</td>\n",
       "      <td>93.994</td>\n",
       "      <td>-36.4</td>\n",
       "      <td>4.857</td>\n",
       "      <td>5191.0</td>\n",
       "      <td>0</td>\n",
       "    </tr>\n",
       "  </tbody>\n",
       "</table>\n",
       "</div>"
      ],
      "text/plain": [
       "   age        job  marital            education housing loan    contact month  \\\n",
       "0   56  housemaid  married        middle.school      no   no  telephone   may   \n",
       "1   37   services  married          high.school     yes   no  telephone   may   \n",
       "2   40     admin.  married        middle.school      no   no  telephone   may   \n",
       "3   56   services  married          high.school      no  yes  telephone   may   \n",
       "4   59     admin.  married  professional.course      no   no  telephone   may   \n",
       "\n",
       "  day_of_week  duration  campaign  pdays  previous  poutcome  emp.var.rate  \\\n",
       "0         mon       261         1      0         0         0           1.1   \n",
       "1         mon       226         1      0         0         0           1.1   \n",
       "2         mon       151         1      0         0         0           1.1   \n",
       "3         mon       307         1      0         0         0           1.1   \n",
       "4         mon       139         1      0         0         0           1.1   \n",
       "\n",
       "   cons.price.idx  cons.conf.idx  euribor3m  nr.employed  y  \n",
       "0          93.994          -36.4      4.857       5191.0  0  \n",
       "1          93.994          -36.4      4.857       5191.0  0  \n",
       "2          93.994          -36.4      4.857       5191.0  0  \n",
       "3          93.994          -36.4      4.857       5191.0  0  \n",
       "4          93.994          -36.4      4.857       5191.0  0  "
      ]
     },
     "execution_count": 25,
     "metadata": {},
     "output_type": "execute_result"
    }
   ],
   "source": [
    "df.head()"
   ]
  },
  {
   "cell_type": "markdown",
   "id": "32d44b7f",
   "metadata": {
    "id": "OWgsJLFTjske",
    "papermill": {
     "duration": 0.022781,
     "end_time": "2022-08-26T11:48:28.025461",
     "exception": false,
     "start_time": "2022-08-26T11:48:28.002680",
     "status": "completed"
    },
    "tags": []
   },
   "source": [
    "* Encoding the remaining features"
   ]
  },
  {
   "cell_type": "code",
   "execution_count": 26,
   "id": "f103320e",
   "metadata": {
    "execution": {
     "iopub.execute_input": "2022-08-26T11:48:28.074310Z",
     "iopub.status.busy": "2022-08-26T11:48:28.073586Z",
     "iopub.status.idle": "2022-08-26T11:48:28.145844Z",
     "shell.execute_reply": "2022-08-26T11:48:28.144582Z"
    },
    "id": "lvsOWi8SiAL-",
    "papermill": {
     "duration": 0.100347,
     "end_time": "2022-08-26T11:48:28.148740",
     "exception": false,
     "start_time": "2022-08-26T11:48:28.048393",
     "status": "completed"
    },
    "tags": []
   },
   "outputs": [],
   "source": [
    "le = preprocessing.LabelEncoder()\n",
    "objects = [\"job\",\"marital\",\"education\",\"housing\",\"loan\",\"contact\",\"month\",\"day_of_week\"]\n",
    "for i in objects:  \n",
    "    df[i] = le.fit_transform(df[i])"
   ]
  },
  {
   "cell_type": "code",
   "execution_count": 27,
   "id": "1e4fff81",
   "metadata": {
    "execution": {
     "iopub.execute_input": "2022-08-26T11:48:28.198185Z",
     "iopub.status.busy": "2022-08-26T11:48:28.197726Z",
     "iopub.status.idle": "2022-08-26T11:48:28.218351Z",
     "shell.execute_reply": "2022-08-26T11:48:28.217212Z"
    },
    "id": "-RjB2-7Djyk3",
    "outputId": "0ff24310-f0a4-4ecb-f940-4a484c394610",
    "papermill": {
     "duration": 0.047964,
     "end_time": "2022-08-26T11:48:28.220969",
     "exception": false,
     "start_time": "2022-08-26T11:48:28.173005",
     "status": "completed"
    },
    "tags": []
   },
   "outputs": [
    {
     "data": {
      "text/html": [
       "<div>\n",
       "<style scoped>\n",
       "    .dataframe tbody tr th:only-of-type {\n",
       "        vertical-align: middle;\n",
       "    }\n",
       "\n",
       "    .dataframe tbody tr th {\n",
       "        vertical-align: top;\n",
       "    }\n",
       "\n",
       "    .dataframe thead th {\n",
       "        text-align: right;\n",
       "    }\n",
       "</style>\n",
       "<table border=\"1\" class=\"dataframe\">\n",
       "  <thead>\n",
       "    <tr style=\"text-align: right;\">\n",
       "      <th></th>\n",
       "      <th>age</th>\n",
       "      <th>job</th>\n",
       "      <th>marital</th>\n",
       "      <th>education</th>\n",
       "      <th>housing</th>\n",
       "      <th>loan</th>\n",
       "      <th>contact</th>\n",
       "      <th>month</th>\n",
       "      <th>day_of_week</th>\n",
       "      <th>duration</th>\n",
       "      <th>campaign</th>\n",
       "      <th>pdays</th>\n",
       "      <th>previous</th>\n",
       "      <th>poutcome</th>\n",
       "      <th>emp.var.rate</th>\n",
       "      <th>cons.price.idx</th>\n",
       "      <th>cons.conf.idx</th>\n",
       "      <th>euribor3m</th>\n",
       "      <th>nr.employed</th>\n",
       "      <th>y</th>\n",
       "    </tr>\n",
       "  </thead>\n",
       "  <tbody>\n",
       "    <tr>\n",
       "      <th>0</th>\n",
       "      <td>56</td>\n",
       "      <td>3</td>\n",
       "      <td>1</td>\n",
       "      <td>2</td>\n",
       "      <td>0</td>\n",
       "      <td>0</td>\n",
       "      <td>1</td>\n",
       "      <td>6</td>\n",
       "      <td>1</td>\n",
       "      <td>261</td>\n",
       "      <td>1</td>\n",
       "      <td>0</td>\n",
       "      <td>0</td>\n",
       "      <td>0</td>\n",
       "      <td>1.1</td>\n",
       "      <td>93.994</td>\n",
       "      <td>-36.4</td>\n",
       "      <td>4.857</td>\n",
       "      <td>5191.0</td>\n",
       "      <td>0</td>\n",
       "    </tr>\n",
       "    <tr>\n",
       "      <th>1</th>\n",
       "      <td>37</td>\n",
       "      <td>7</td>\n",
       "      <td>1</td>\n",
       "      <td>0</td>\n",
       "      <td>1</td>\n",
       "      <td>0</td>\n",
       "      <td>1</td>\n",
       "      <td>6</td>\n",
       "      <td>1</td>\n",
       "      <td>226</td>\n",
       "      <td>1</td>\n",
       "      <td>0</td>\n",
       "      <td>0</td>\n",
       "      <td>0</td>\n",
       "      <td>1.1</td>\n",
       "      <td>93.994</td>\n",
       "      <td>-36.4</td>\n",
       "      <td>4.857</td>\n",
       "      <td>5191.0</td>\n",
       "      <td>0</td>\n",
       "    </tr>\n",
       "    <tr>\n",
       "      <th>2</th>\n",
       "      <td>40</td>\n",
       "      <td>0</td>\n",
       "      <td>1</td>\n",
       "      <td>2</td>\n",
       "      <td>0</td>\n",
       "      <td>0</td>\n",
       "      <td>1</td>\n",
       "      <td>6</td>\n",
       "      <td>1</td>\n",
       "      <td>151</td>\n",
       "      <td>1</td>\n",
       "      <td>0</td>\n",
       "      <td>0</td>\n",
       "      <td>0</td>\n",
       "      <td>1.1</td>\n",
       "      <td>93.994</td>\n",
       "      <td>-36.4</td>\n",
       "      <td>4.857</td>\n",
       "      <td>5191.0</td>\n",
       "      <td>0</td>\n",
       "    </tr>\n",
       "    <tr>\n",
       "      <th>3</th>\n",
       "      <td>56</td>\n",
       "      <td>7</td>\n",
       "      <td>1</td>\n",
       "      <td>0</td>\n",
       "      <td>0</td>\n",
       "      <td>1</td>\n",
       "      <td>1</td>\n",
       "      <td>6</td>\n",
       "      <td>1</td>\n",
       "      <td>307</td>\n",
       "      <td>1</td>\n",
       "      <td>0</td>\n",
       "      <td>0</td>\n",
       "      <td>0</td>\n",
       "      <td>1.1</td>\n",
       "      <td>93.994</td>\n",
       "      <td>-36.4</td>\n",
       "      <td>4.857</td>\n",
       "      <td>5191.0</td>\n",
       "      <td>0</td>\n",
       "    </tr>\n",
       "    <tr>\n",
       "      <th>4</th>\n",
       "      <td>59</td>\n",
       "      <td>0</td>\n",
       "      <td>1</td>\n",
       "      <td>3</td>\n",
       "      <td>0</td>\n",
       "      <td>0</td>\n",
       "      <td>1</td>\n",
       "      <td>6</td>\n",
       "      <td>1</td>\n",
       "      <td>139</td>\n",
       "      <td>1</td>\n",
       "      <td>0</td>\n",
       "      <td>0</td>\n",
       "      <td>0</td>\n",
       "      <td>1.1</td>\n",
       "      <td>93.994</td>\n",
       "      <td>-36.4</td>\n",
       "      <td>4.857</td>\n",
       "      <td>5191.0</td>\n",
       "      <td>0</td>\n",
       "    </tr>\n",
       "  </tbody>\n",
       "</table>\n",
       "</div>"
      ],
      "text/plain": [
       "   age  job  marital  education  housing  loan  contact  month  day_of_week  \\\n",
       "0   56    3        1          2        0     0        1      6            1   \n",
       "1   37    7        1          0        1     0        1      6            1   \n",
       "2   40    0        1          2        0     0        1      6            1   \n",
       "3   56    7        1          0        0     1        1      6            1   \n",
       "4   59    0        1          3        0     0        1      6            1   \n",
       "\n",
       "   duration  campaign  pdays  previous  poutcome  emp.var.rate  \\\n",
       "0       261         1      0         0         0           1.1   \n",
       "1       226         1      0         0         0           1.1   \n",
       "2       151         1      0         0         0           1.1   \n",
       "3       307         1      0         0         0           1.1   \n",
       "4       139         1      0         0         0           1.1   \n",
       "\n",
       "   cons.price.idx  cons.conf.idx  euribor3m  nr.employed  y  \n",
       "0          93.994          -36.4      4.857       5191.0  0  \n",
       "1          93.994          -36.4      4.857       5191.0  0  \n",
       "2          93.994          -36.4      4.857       5191.0  0  \n",
       "3          93.994          -36.4      4.857       5191.0  0  \n",
       "4          93.994          -36.4      4.857       5191.0  0  "
      ]
     },
     "execution_count": 27,
     "metadata": {},
     "output_type": "execute_result"
    }
   ],
   "source": [
    "df.head()"
   ]
  },
  {
   "cell_type": "markdown",
   "id": "056c2dee",
   "metadata": {
    "id": "8_lqoVNGoLAb",
    "papermill": {
     "duration": 0.024331,
     "end_time": "2022-08-26T11:48:28.269065",
     "exception": false,
     "start_time": "2022-08-26T11:48:28.244734",
     "status": "completed"
    },
    "tags": []
   },
   "source": [
    "# Modelling"
   ]
  },
  {
   "cell_type": "markdown",
   "id": "7d2dc031",
   "metadata": {
    "id": "z0oPKwJNlsXO",
    "papermill": {
     "duration": 0.023427,
     "end_time": "2022-08-26T11:48:28.316088",
     "exception": false,
     "start_time": "2022-08-26T11:48:28.292661",
     "status": "completed"
    },
    "tags": []
   },
   "source": [
    "## Baseline Modelling without Feature Selection"
   ]
  },
  {
   "cell_type": "markdown",
   "id": "43aded72",
   "metadata": {
    "id": "OI46ak0eydkF",
    "papermill": {
     "duration": 0.025887,
     "end_time": "2022-08-26T11:48:28.366812",
     "exception": false,
     "start_time": "2022-08-26T11:48:28.340925",
     "status": "completed"
    },
    "tags": []
   },
   "source": [
    "* A decision tree is a simple, decision making-diagram.\n",
    "* Random forests are a large number of trees, combined (using averages or “majority rules”) at the end of the process.\n",
    "* Gradient boosting machines also combine decision trees, but start the combining process at the beginning, instead of at the end.\n",
    "\n",
    "Both RF and GBM are ensemble methods, meaning you build a classifier out a big number of smaller classifiers. Now the fundamental difference lies on the method used:\n",
    "\n",
    "* RF uses decision trees, which are very prone to overfitting. In order to achieve higher accuracy, RF decides to create a large number of them based on bagging. The basic idea is to resample the data over and over and for each sample train a new classifier. Different classifiers overfit the data in a different way, and through voting those differences are averaged out.\n",
    "* GBM is a boosting method, which builds on weak classifiers. The idea is to add a classifier at a time, so that the next classifier is trained to improve the already trained ensemble. Notice that for RF each iteration the classifier is trained independently from the rest.\n",
    "\n",
    "Boosting model is popular these days and Xgboost and LightGBM are most used ones.\n",
    "* In XGBoost, trees grow depth-wise while in LightGBM, trees grow leaf-wise which is the fundamental difference between the two frameworks."
   ]
  },
  {
   "cell_type": "code",
   "execution_count": 28,
   "id": "59b95f38",
   "metadata": {
    "execution": {
     "iopub.execute_input": "2022-08-26T11:48:28.417500Z",
     "iopub.status.busy": "2022-08-26T11:48:28.416622Z",
     "iopub.status.idle": "2022-08-26T11:48:28.695368Z",
     "shell.execute_reply": "2022-08-26T11:48:28.694226Z"
    },
    "id": "b9Akiz1_m223",
    "papermill": {
     "duration": 0.307066,
     "end_time": "2022-08-26T11:48:28.698161",
     "exception": false,
     "start_time": "2022-08-26T11:48:28.391095",
     "status": "completed"
    },
    "tags": []
   },
   "outputs": [],
   "source": [
    "#Data Splitting Libraries\n",
    "from sklearn.model_selection import train_test_split,GridSearchCV\n",
    "from sklearn.metrics import confusion_matrix, accuracy_score,classification_report\n",
    "#Classification Libraries\n",
    "from sklearn.linear_model import LogisticRegression\n",
    "from sklearn.tree import DecisionTreeClassifier\n",
    "from sklearn.ensemble import RandomForestClassifier\n",
    "from sklearn.ensemble import GradientBoostingClassifier\n",
    "from sklearn.neighbors import KNeighborsClassifier"
   ]
  },
  {
   "cell_type": "code",
   "execution_count": 29,
   "id": "b8d858b0",
   "metadata": {
    "execution": {
     "iopub.execute_input": "2022-08-26T11:48:28.748023Z",
     "iopub.status.busy": "2022-08-26T11:48:28.747282Z",
     "iopub.status.idle": "2022-08-26T11:48:28.765199Z",
     "shell.execute_reply": "2022-08-26T11:48:28.763837Z"
    },
    "id": "aRi29BYjjzqw",
    "outputId": "5de27b1f-1258-4069-a8f7-af81459ae774",
    "papermill": {
     "duration": 0.045771,
     "end_time": "2022-08-26T11:48:28.767858",
     "exception": false,
     "start_time": "2022-08-26T11:48:28.722087",
     "status": "completed"
    },
    "tags": []
   },
   "outputs": [
    {
     "name": "stdout",
     "output_type": "stream",
     "text": [
      "X Columns:  ['age', 'job', 'marital', 'education', 'housing', 'loan', 'contact', 'month', 'day_of_week', 'duration', 'campaign', 'pdays', 'previous', 'poutcome', 'emp.var.rate', 'cons.price.idx', 'cons.conf.idx', 'euribor3m', 'nr.employed']\n"
     ]
    }
   ],
   "source": [
    "X = df.iloc[:,df.columns != 'y']\n",
    "y = df.y\n",
    "print(\"X Columns: \",list(X.columns))"
   ]
  },
  {
   "cell_type": "code",
   "execution_count": 30,
   "id": "aabe1a8c",
   "metadata": {
    "execution": {
     "iopub.execute_input": "2022-08-26T11:48:28.819424Z",
     "iopub.status.busy": "2022-08-26T11:48:28.818519Z",
     "iopub.status.idle": "2022-08-26T11:48:28.834483Z",
     "shell.execute_reply": "2022-08-26T11:48:28.833302Z"
    },
    "id": "7Oeoxt_emi14",
    "papermill": {
     "duration": 0.045301,
     "end_time": "2022-08-26T11:48:28.837411",
     "exception": false,
     "start_time": "2022-08-26T11:48:28.792110",
     "status": "completed"
    },
    "tags": []
   },
   "outputs": [],
   "source": [
    "def ML_training(X,y):\n",
    "    X_train, X_test, y_train, y_test = train_test_split(X, y, test_size = 0.20, random_state = 0)\n",
    "    \n",
    "    log_lm = LogisticRegression()\n",
    "    log_lm.fit(X_train, y_train)\n",
    "    logy_pred = log_lm.predict(X_test)\n",
    "    acclr = accuracy_score(y_test, logy_pred)*100\n",
    "    logquestions = pd.DataFrame({'features': X.columns,'Coef': (log_lm.coef_[0])*100})\n",
    "    logquestions = logquestions.sort_values(by='Coef', ascending=False)\n",
    "    ##############################\n",
    "    dtree=DecisionTreeClassifier()\n",
    "    dtree.fit(X_train, y_train)\n",
    "    dtreey_pred = dtree.predict(X_test)\n",
    "    accdtree = accuracy_score(y_test, dtreey_pred)*100\n",
    "    dtreequestions = importance(dtree,X)\n",
    "    ##############################\n",
    "    rf = RandomForestClassifier(random_state=42)\n",
    "    rf.fit(X_train, y_train)\n",
    "    rfy_pred = rf.predict(X_test)\n",
    "    accrf = accuracy_score(y_test, rfy_pred)*100\n",
    "    accquestions = importance(rf,X)\n",
    "    #############################\n",
    "    gbrt = GradientBoostingClassifier(random_state=42)\n",
    "    gbrt.fit(X_train, y_train)\n",
    "    gbrt_pred=gbrt.predict(X_test)\n",
    "    accgbrt = accuracy_score(y_test, gbrt_pred)*100\n",
    "    gbrtaccquestions = importance(gbrt,X)\n",
    "    #############################\n",
    "    knn = KNeighborsClassifier()\n",
    "    knn.fit(X_train, y_train)\n",
    "    knn_pred=knn.predict(X_test)\n",
    "    knngbrt = accuracy_score(y_test, knn_pred)*100\n",
    "    #knnaccquestions = importance(knn)\n",
    "\n",
    "    # Reporting\n",
    "    print(\"Logistic Regression Report in test set\")\n",
    "    print(classification_report(y_test, logy_pred))\n",
    "    print(confusion_matrix(y_test,logy_pred))\n",
    "    print(logquestions)\n",
    "    print(\"------------------------------------------------------\")\n",
    "    print(\"Decision Tree Report in test set\")\n",
    "    print(classification_report(y_test, dtreey_pred))\n",
    "    print(confusion_matrix(y_test,dtreey_pred))\n",
    "    print(dtreequestions)\n",
    "    print(\"------------------------------------------------------\")\n",
    "    print(\"Random Forest Report in test set\")\n",
    "    print(classification_report(y_test, rfy_pred))\n",
    "    print(confusion_matrix(y_test,rfy_pred))\n",
    "    print(accquestions)\n",
    "    print(\"------------------------------------------------------\")\n",
    "    print(\"Gradient Boosting in test set\")\n",
    "    print(classification_report(y_test, gbrt_pred))\n",
    "    print(confusion_matrix(y_test,gbrt_pred))\n",
    "    print(gbrtaccquestions)\n",
    "    print(\"------------------------------------------------------\")\n",
    "    print(\"K Neighbors in test set\")\n",
    "    print(classification_report(y_test, knn_pred))\n",
    "    print(confusion_matrix(y_test,knn_pred))\n",
    "    #print(knnaccquestions)\n",
    "    print(\"------------------------------------------------------\")"
   ]
  },
  {
   "cell_type": "code",
   "execution_count": 31,
   "id": "869aeea8",
   "metadata": {
    "execution": {
     "iopub.execute_input": "2022-08-26T11:48:28.902332Z",
     "iopub.status.busy": "2022-08-26T11:48:28.901483Z",
     "iopub.status.idle": "2022-08-26T11:48:28.907846Z",
     "shell.execute_reply": "2022-08-26T11:48:28.906485Z"
    },
    "id": "H5FuWxLomtPN",
    "papermill": {
     "duration": 0.048494,
     "end_time": "2022-08-26T11:48:28.910176",
     "exception": false,
     "start_time": "2022-08-26T11:48:28.861682",
     "status": "completed"
    },
    "tags": []
   },
   "outputs": [],
   "source": [
    "def importance(model,X):\n",
    "    questions = pd.DataFrame({'features': X.columns,'importance': (model.feature_importances_)*100})\n",
    "    questions.sort_values(by='importance', ascending=False)\n",
    "    questions = questions.sort_values(by='importance', ascending=False)\n",
    "    return questions"
   ]
  },
  {
   "cell_type": "code",
   "execution_count": 32,
   "id": "ac4e5617",
   "metadata": {
    "execution": {
     "iopub.execute_input": "2022-08-26T11:48:28.962317Z",
     "iopub.status.busy": "2022-08-26T11:48:28.961454Z",
     "iopub.status.idle": "2022-08-26T11:48:38.947604Z",
     "shell.execute_reply": "2022-08-26T11:48:38.946246Z"
    },
    "id": "Te-1lM3Lmt0n",
    "outputId": "22ed1fbb-50d4-4b61-ad10-7bcea0f30cbd",
    "papermill": {
     "duration": 10.01568,
     "end_time": "2022-08-26T11:48:38.950795",
     "exception": false,
     "start_time": "2022-08-26T11:48:28.935115",
     "status": "completed"
    },
    "tags": []
   },
   "outputs": [
    {
     "name": "stderr",
     "output_type": "stream",
     "text": [
      "/opt/conda/lib/python3.7/site-packages/sklearn/linear_model/_logistic.py:818: ConvergenceWarning: lbfgs failed to converge (status=1):\n",
      "STOP: TOTAL NO. of ITERATIONS REACHED LIMIT.\n",
      "\n",
      "Increase the number of iterations (max_iter) or scale the data as shown in:\n",
      "    https://scikit-learn.org/stable/modules/preprocessing.html\n",
      "Please also refer to the documentation for alternative solver options:\n",
      "    https://scikit-learn.org/stable/modules/linear_model.html#logistic-regression\n",
      "  extra_warning_msg=_LOGISTIC_SOLVER_CONVERGENCE_MSG,\n"
     ]
    },
    {
     "name": "stdout",
     "output_type": "stream",
     "text": [
      "Logistic Regression Report in test set\n",
      "              precision    recall  f1-score   support\n",
      "\n",
      "           0       0.92      0.97      0.94      5350\n",
      "           1       0.64      0.37      0.47       748\n",
      "\n",
      "    accuracy                           0.90      6098\n",
      "   macro avg       0.78      0.67      0.71      6098\n",
      "weighted avg       0.88      0.90      0.88      6098\n",
      "\n",
      "[[5191  159]\n",
      " [ 470  278]]\n",
      "          features       Coef\n",
      "15  cons.price.idx  24.235152\n",
      "11           pdays  17.184219\n",
      "3        education   5.213851\n",
      "16   cons.conf.idx   4.536049\n",
      "13        poutcome   4.253580\n",
      "2          marital   3.322113\n",
      "12        previous   2.942921\n",
      "8      day_of_week   2.758412\n",
      "4          housing   0.492589\n",
      "9         duration   0.452608\n",
      "0              age   0.254296\n",
      "5             loan  -0.293641\n",
      "1              job  -0.414387\n",
      "18     nr.employed  -0.459641\n",
      "6          contact  -4.293832\n",
      "10        campaign  -6.392883\n",
      "7            month  -7.653045\n",
      "14    emp.var.rate -25.812411\n",
      "17       euribor3m -28.228825\n",
      "------------------------------------------------------\n",
      "Decision Tree Report in test set\n",
      "              precision    recall  f1-score   support\n",
      "\n",
      "           0       0.94      0.93      0.93      5350\n",
      "           1       0.53      0.57      0.55       748\n",
      "\n",
      "    accuracy                           0.89      6098\n",
      "   macro avg       0.74      0.75      0.74      6098\n",
      "weighted avg       0.89      0.89      0.89      6098\n",
      "\n",
      "[[4972  378]\n",
      " [ 318  430]]\n",
      "          features  importance\n",
      "9         duration   36.430515\n",
      "18     nr.employed   15.948048\n",
      "0              age   10.137794\n",
      "17       euribor3m    7.515338\n",
      "1              job    4.039464\n",
      "10        campaign    3.862335\n",
      "8      day_of_week    3.686636\n",
      "3        education    3.241389\n",
      "16   cons.conf.idx    2.560786\n",
      "2          marital    1.943556\n",
      "13        poutcome    1.752827\n",
      "15  cons.price.idx    1.732022\n",
      "4          housing    1.696306\n",
      "7            month    1.673922\n",
      "11           pdays    1.296167\n",
      "5             loan    1.034027\n",
      "12        previous    0.703695\n",
      "6          contact    0.612564\n",
      "14    emp.var.rate    0.132609\n",
      "------------------------------------------------------\n",
      "Random Forest Report in test set\n",
      "              precision    recall  f1-score   support\n",
      "\n",
      "           0       0.93      0.96      0.95      5350\n",
      "           1       0.65      0.52      0.58       748\n",
      "\n",
      "    accuracy                           0.91      6098\n",
      "   macro avg       0.79      0.74      0.76      6098\n",
      "weighted avg       0.90      0.91      0.90      6098\n",
      "\n",
      "[[5143  207]\n",
      " [ 360  388]]\n",
      "          features  importance\n",
      "9         duration   31.967658\n",
      "17       euribor3m   11.880569\n",
      "0              age    9.595659\n",
      "18     nr.employed    6.104187\n",
      "1              job    4.925254\n",
      "8      day_of_week    4.316831\n",
      "10        campaign    4.306107\n",
      "3        education    3.369874\n",
      "13        poutcome    2.887614\n",
      "16   cons.conf.idx    2.819112\n",
      "11           pdays    2.754554\n",
      "14    emp.var.rate    2.510632\n",
      "2          marital    2.486208\n",
      "15  cons.price.idx    2.372734\n",
      "7            month    2.158327\n",
      "4          housing    1.956109\n",
      "5             loan    1.373467\n",
      "12        previous    1.151710\n",
      "6          contact    1.063396\n",
      "------------------------------------------------------\n",
      "Gradient Boosting in test set\n",
      "              precision    recall  f1-score   support\n",
      "\n",
      "           0       0.94      0.96      0.95      5350\n",
      "           1       0.65      0.56      0.60       748\n",
      "\n",
      "    accuracy                           0.91      6098\n",
      "   macro avg       0.79      0.76      0.77      6098\n",
      "weighted avg       0.90      0.91      0.91      6098\n",
      "\n",
      "[[5125  225]\n",
      " [ 330  418]]\n",
      "          features  importance\n",
      "9         duration   46.313513\n",
      "18     nr.employed   27.953869\n",
      "17       euribor3m    7.905423\n",
      "13        poutcome    5.197068\n",
      "16   cons.conf.idx    4.326913\n",
      "7            month    1.998777\n",
      "15  cons.price.idx    1.581005\n",
      "14    emp.var.rate    1.054794\n",
      "11           pdays    1.049969\n",
      "0              age    0.752729\n",
      "6          contact    0.625591\n",
      "12        previous    0.385612\n",
      "10        campaign    0.349353\n",
      "8      day_of_week    0.286641\n",
      "1              job    0.086948\n",
      "3        education    0.069626\n",
      "2          marital    0.052442\n",
      "4          housing    0.009479\n",
      "5             loan    0.000250\n",
      "------------------------------------------------------\n",
      "K Neighbors in test set\n",
      "              precision    recall  f1-score   support\n",
      "\n",
      "           0       0.93      0.95      0.94      5350\n",
      "           1       0.57      0.47      0.52       748\n",
      "\n",
      "    accuracy                           0.89      6098\n",
      "   macro avg       0.75      0.71      0.73      6098\n",
      "weighted avg       0.88      0.89      0.89      6098\n",
      "\n",
      "[[5082  268]\n",
      " [ 395  353]]\n",
      "------------------------------------------------------\n"
     ]
    }
   ],
   "source": [
    "ML_training(X,y)"
   ]
  },
  {
   "cell_type": "markdown",
   "id": "3757b910",
   "metadata": {
    "id": "9QBpIwvJniA2",
    "papermill": {
     "duration": 0.023779,
     "end_time": "2022-08-26T11:48:38.998845",
     "exception": false,
     "start_time": "2022-08-26T11:48:38.975066",
     "status": "completed"
    },
    "tags": []
   },
   "source": [
    "* As I already seen in correlation plot, duration feature is highly correlated and has to be removed from modelling. \n",
    "* As you can see models can not able to predict \"yes\" value in target feature, it could be about imbalanced dataset or about some features like duration."
   ]
  },
  {
   "cell_type": "code",
   "execution_count": null,
   "id": "f28af011",
   "metadata": {
    "id": "s_0hxlDAnWWo",
    "papermill": {
     "duration": 0.02432,
     "end_time": "2022-08-26T11:48:39.047644",
     "exception": false,
     "start_time": "2022-08-26T11:48:39.023324",
     "status": "completed"
    },
    "tags": []
   },
   "outputs": [],
   "source": []
  },
  {
   "cell_type": "markdown",
   "id": "23dc56fa",
   "metadata": {
    "id": "YBRi8D3b3Qz3",
    "papermill": {
     "duration": 0.023874,
     "end_time": "2022-08-26T11:48:39.097376",
     "exception": false,
     "start_time": "2022-08-26T11:48:39.073502",
     "status": "completed"
    },
    "tags": []
   },
   "source": [
    "## Balanced Dataset without Feature Selection"
   ]
  },
  {
   "cell_type": "code",
   "execution_count": 33,
   "id": "6cfcae4a",
   "metadata": {
    "execution": {
     "iopub.execute_input": "2022-08-26T11:48:39.148778Z",
     "iopub.status.busy": "2022-08-26T11:48:39.148001Z",
     "iopub.status.idle": "2022-08-26T11:48:39.164429Z",
     "shell.execute_reply": "2022-08-26T11:48:39.163112Z"
    },
    "id": "sMr-qWAd3Wsj",
    "outputId": "af66398d-1305-4ad5-b11e-893257921eff",
    "papermill": {
     "duration": 0.045516,
     "end_time": "2022-08-26T11:48:39.167868",
     "exception": false,
     "start_time": "2022-08-26T11:48:39.122352",
     "status": "completed"
    },
    "tags": []
   },
   "outputs": [
    {
     "name": "stdout",
     "output_type": "stream",
     "text": [
      "Unbalanced Data shape 30488\n",
      "Balanced data shape: 7718\n"
     ]
    }
   ],
   "source": [
    "print(\"Unbalanced Data shape\", len(df))\n",
    "datano = df[df.y == 0]\n",
    "datayes = df[df.y == 1]\n",
    "balanced_df = pd.concat([datano.sample(len(datayes), random_state=5), datayes])\n",
    "print(\"Balanced data shape:\", len(balanced_df))"
   ]
  },
  {
   "cell_type": "code",
   "execution_count": 34,
   "id": "774e9265",
   "metadata": {
    "execution": {
     "iopub.execute_input": "2022-08-26T11:48:39.219446Z",
     "iopub.status.busy": "2022-08-26T11:48:39.218987Z",
     "iopub.status.idle": "2022-08-26T11:48:39.227973Z",
     "shell.execute_reply": "2022-08-26T11:48:39.226654Z"
    },
    "id": "F-QnNVA94Be8",
    "outputId": "97880516-97de-43a6-8491-4854f3965bfc",
    "papermill": {
     "duration": 0.037222,
     "end_time": "2022-08-26T11:48:39.230415",
     "exception": false,
     "start_time": "2022-08-26T11:48:39.193193",
     "status": "completed"
    },
    "tags": []
   },
   "outputs": [
    {
     "data": {
      "text/plain": [
       "0    3859\n",
       "1    3859\n",
       "Name: y, dtype: int64"
      ]
     },
     "execution_count": 34,
     "metadata": {},
     "output_type": "execute_result"
    }
   ],
   "source": [
    "balanced_df.y.value_counts()"
   ]
  },
  {
   "cell_type": "code",
   "execution_count": 35,
   "id": "1cb9c6a9",
   "metadata": {
    "execution": {
     "iopub.execute_input": "2022-08-26T11:48:39.281365Z",
     "iopub.status.busy": "2022-08-26T11:48:39.280682Z",
     "iopub.status.idle": "2022-08-26T11:48:39.285943Z",
     "shell.execute_reply": "2022-08-26T11:48:39.285108Z"
    },
    "id": "swp2R5XL5qB5",
    "papermill": {
     "duration": 0.03356,
     "end_time": "2022-08-26T11:48:39.288275",
     "exception": false,
     "start_time": "2022-08-26T11:48:39.254715",
     "status": "completed"
    },
    "tags": []
   },
   "outputs": [],
   "source": [
    "balanced_df.reset_index(inplace=True,drop=True)"
   ]
  },
  {
   "cell_type": "code",
   "execution_count": 36,
   "id": "2c01fc74",
   "metadata": {
    "execution": {
     "iopub.execute_input": "2022-08-26T11:48:39.338457Z",
     "iopub.status.busy": "2022-08-26T11:48:39.337975Z",
     "iopub.status.idle": "2022-08-26T11:48:39.346373Z",
     "shell.execute_reply": "2022-08-26T11:48:39.344873Z"
    },
    "id": "x3vO1JUZ3pWY",
    "outputId": "9f7e223e-ecf6-4b85-c54c-540472fb5f22",
    "papermill": {
     "duration": 0.036426,
     "end_time": "2022-08-26T11:48:39.348725",
     "exception": false,
     "start_time": "2022-08-26T11:48:39.312299",
     "status": "completed"
    },
    "tags": []
   },
   "outputs": [
    {
     "name": "stdout",
     "output_type": "stream",
     "text": [
      "X Columns:  ['age', 'job', 'marital', 'education', 'housing', 'loan', 'contact', 'month', 'day_of_week', 'duration', 'campaign', 'pdays', 'previous', 'poutcome', 'emp.var.rate', 'cons.price.idx', 'cons.conf.idx', 'euribor3m', 'nr.employed']\n"
     ]
    }
   ],
   "source": [
    "X_balanced = balanced_df.iloc[:,balanced_df.columns != 'y']\n",
    "y_balanced = balanced_df.y\n",
    "print(\"X Columns: \",list(X_balanced.columns))"
   ]
  },
  {
   "cell_type": "code",
   "execution_count": 37,
   "id": "80765e9e",
   "metadata": {
    "execution": {
     "iopub.execute_input": "2022-08-26T11:48:39.399748Z",
     "iopub.status.busy": "2022-08-26T11:48:39.398541Z",
     "iopub.status.idle": "2022-08-26T11:48:41.723433Z",
     "shell.execute_reply": "2022-08-26T11:48:41.722122Z"
    },
    "id": "rkrlmiCA3zAM",
    "outputId": "feea7c90-ea78-4dfb-f938-18615f5fefdb",
    "papermill": {
     "duration": 2.35301,
     "end_time": "2022-08-26T11:48:41.726007",
     "exception": false,
     "start_time": "2022-08-26T11:48:39.372997",
     "status": "completed"
    },
    "tags": []
   },
   "outputs": [
    {
     "name": "stderr",
     "output_type": "stream",
     "text": [
      "/opt/conda/lib/python3.7/site-packages/sklearn/linear_model/_logistic.py:818: ConvergenceWarning: lbfgs failed to converge (status=1):\n",
      "STOP: TOTAL NO. of ITERATIONS REACHED LIMIT.\n",
      "\n",
      "Increase the number of iterations (max_iter) or scale the data as shown in:\n",
      "    https://scikit-learn.org/stable/modules/preprocessing.html\n",
      "Please also refer to the documentation for alternative solver options:\n",
      "    https://scikit-learn.org/stable/modules/linear_model.html#logistic-regression\n",
      "  extra_warning_msg=_LOGISTIC_SOLVER_CONVERGENCE_MSG,\n"
     ]
    },
    {
     "name": "stdout",
     "output_type": "stream",
     "text": [
      "Logistic Regression Report in test set\n",
      "              precision    recall  f1-score   support\n",
      "\n",
      "           0       0.85      0.83      0.84       766\n",
      "           1       0.84      0.86      0.85       778\n",
      "\n",
      "    accuracy                           0.85      1544\n",
      "   macro avg       0.85      0.85      0.85      1544\n",
      "weighted avg       0.85      0.85      0.85      1544\n",
      "\n",
      "[[638 128]\n",
      " [109 669]]\n",
      "          features       Coef\n",
      "15  cons.price.idx  27.446007\n",
      "11           pdays  21.484307\n",
      "3        education   9.424589\n",
      "16   cons.conf.idx   4.700273\n",
      "13        poutcome   4.555353\n",
      "2          marital   4.226593\n",
      "8      day_of_week   3.460478\n",
      "12        previous   2.790423\n",
      "1              job   2.000256\n",
      "4          housing   1.103146\n",
      "9         duration   0.641387\n",
      "5             loan  -0.044744\n",
      "0              age  -0.362112\n",
      "18     nr.employed  -0.490598\n",
      "6          contact  -5.036298\n",
      "10        campaign  -7.349554\n",
      "7            month  -8.245828\n",
      "14    emp.var.rate -33.084206\n",
      "17       euribor3m -33.683408\n",
      "------------------------------------------------------\n",
      "Decision Tree Report in test set\n",
      "              precision    recall  f1-score   support\n",
      "\n",
      "           0       0.82      0.84      0.83       766\n",
      "           1       0.83      0.81      0.82       778\n",
      "\n",
      "    accuracy                           0.82      1544\n",
      "   macro avg       0.82      0.82      0.82      1544\n",
      "weighted avg       0.82      0.82      0.82      1544\n",
      "\n",
      "[[640 126]\n",
      " [145 633]]\n",
      "          features  importance\n",
      "9         duration   42.841489\n",
      "18     nr.employed   14.289093\n",
      "17       euribor3m   12.522832\n",
      "0              age    6.182766\n",
      "16   cons.conf.idx    4.583066\n",
      "8      day_of_week    2.760071\n",
      "1              job    2.341344\n",
      "14    emp.var.rate    2.198689\n",
      "10        campaign    2.161355\n",
      "3        education    2.115624\n",
      "7            month    1.643505\n",
      "2          marital    1.142139\n",
      "5             loan    1.046728\n",
      "15  cons.price.idx    0.933224\n",
      "12        previous    0.839407\n",
      "4          housing    0.701459\n",
      "11           pdays    0.680828\n",
      "6          contact    0.666941\n",
      "13        poutcome    0.349441\n",
      "------------------------------------------------------\n",
      "Random Forest Report in test set\n",
      "              precision    recall  f1-score   support\n",
      "\n",
      "           0       0.93      0.85      0.89       766\n",
      "           1       0.86      0.94      0.90       778\n",
      "\n",
      "    accuracy                           0.89      1544\n",
      "   macro avg       0.90      0.89      0.89      1544\n",
      "weighted avg       0.90      0.89      0.89      1544\n",
      "\n",
      "[[650 116]\n",
      " [ 48 730]]\n",
      "          features  importance\n",
      "9         duration   39.215343\n",
      "17       euribor3m   11.676704\n",
      "18     nr.employed    7.085679\n",
      "0              age    6.277302\n",
      "14    emp.var.rate    5.777178\n",
      "16   cons.conf.idx    3.539629\n",
      "10        campaign    3.217319\n",
      "1              job    3.181679\n",
      "8      day_of_week    3.130416\n",
      "15  cons.price.idx    2.801817\n",
      "3        education    2.396223\n",
      "7            month    2.291750\n",
      "11           pdays    2.049600\n",
      "2          marital    1.713776\n",
      "13        poutcome    1.380987\n",
      "6          contact    1.304081\n",
      "4          housing    1.232421\n",
      "12        previous    0.915757\n",
      "5             loan    0.812337\n",
      "------------------------------------------------------\n",
      "Gradient Boosting in test set\n",
      "              precision    recall  f1-score   support\n",
      "\n",
      "           0       0.93      0.84      0.88       766\n",
      "           1       0.86      0.93      0.89       778\n",
      "\n",
      "    accuracy                           0.89      1544\n",
      "   macro avg       0.89      0.89      0.89      1544\n",
      "weighted avg       0.89      0.89      0.89      1544\n",
      "\n",
      "[[645 121]\n",
      " [ 51 727]]\n",
      "          features  importance\n",
      "9         duration   52.554886\n",
      "18     nr.employed   23.115724\n",
      "17       euribor3m    7.171825\n",
      "16   cons.conf.idx    5.101587\n",
      "14    emp.var.rate    4.243905\n",
      "15  cons.price.idx    2.180494\n",
      "11           pdays    1.615924\n",
      "7            month    1.283208\n",
      "0              age    0.723740\n",
      "6          contact    0.480992\n",
      "10        campaign    0.466482\n",
      "3        education    0.317710\n",
      "8      day_of_week    0.294937\n",
      "13        poutcome    0.172726\n",
      "12        previous    0.158193\n",
      "1              job    0.076451\n",
      "2          marital    0.030757\n",
      "5             loan    0.010459\n",
      "4          housing    0.000000\n",
      "------------------------------------------------------\n",
      "K Neighbors in test set\n",
      "              precision    recall  f1-score   support\n",
      "\n",
      "           0       0.86      0.83      0.85       766\n",
      "           1       0.84      0.87      0.85       778\n",
      "\n",
      "    accuracy                           0.85      1544\n",
      "   macro avg       0.85      0.85      0.85      1544\n",
      "weighted avg       0.85      0.85      0.85      1544\n",
      "\n",
      "[[636 130]\n",
      " [101 677]]\n",
      "------------------------------------------------------\n"
     ]
    }
   ],
   "source": [
    "ML_training(X_balanced,y_balanced)"
   ]
  },
  {
   "cell_type": "markdown",
   "id": "6c91562e",
   "metadata": {
    "id": "v83T_sFc4KfZ",
    "papermill": {
     "duration": 0.024634,
     "end_time": "2022-08-26T11:48:41.776102",
     "exception": false,
     "start_time": "2022-08-26T11:48:41.751468",
     "status": "completed"
    },
    "tags": []
   },
   "source": [
    "* As you can see in the balanced dataset results, our precision and recall results quite similar so our model can also predict well to \"yes\" values in target feature. \n",
    "* Still duration feature is highly dominant in every model.\n"
   ]
  },
  {
   "cell_type": "markdown",
   "id": "58c10999",
   "metadata": {
    "id": "phIxw8Oa6aP4",
    "papermill": {
     "duration": 0.024462,
     "end_time": "2022-08-26T11:48:41.825313",
     "exception": false,
     "start_time": "2022-08-26T11:48:41.800851",
     "status": "completed"
    },
    "tags": []
   },
   "source": [
    "## Balanced Data with Some Feature Scaling"
   ]
  },
  {
   "cell_type": "code",
   "execution_count": 38,
   "id": "d45c951a",
   "metadata": {
    "execution": {
     "iopub.execute_input": "2022-08-26T11:48:41.877805Z",
     "iopub.status.busy": "2022-08-26T11:48:41.876729Z",
     "iopub.status.idle": "2022-08-26T11:48:41.907078Z",
     "shell.execute_reply": "2022-08-26T11:48:41.905811Z"
    },
    "id": "dRXSciV235Kv",
    "papermill": {
     "duration": 0.059418,
     "end_time": "2022-08-26T11:48:41.909837",
     "exception": false,
     "start_time": "2022-08-26T11:48:41.850419",
     "status": "completed"
    },
    "tags": []
   },
   "outputs": [],
   "source": [
    "# change the range of Var Rate\n",
    "balanced_df['emp.var.rate'] = balanced_df['emp.var.rate'].apply(lambda x: x*-0.0001 if x > 0 else x*1)\n",
    "balanced_df['emp.var.rate'] = balanced_df['emp.var.rate'] * -1\n",
    "balanced_df['emp.var.rate'] = balanced_df['emp.var.rate'].apply(lambda x: -np.log(x) if x < 1 else np.log(x)).astype('uint8')\n",
    "\n",
    "# Multiply consumer index \n",
    "balanced_df['cons.price.idx'] = (balanced_df['cons.price.idx'] * 10).astype('uint8')\n",
    "\n",
    "# change the sign (we want all be positive values)\n",
    "balanced_df['cons.conf.idx'] = balanced_df['cons.conf.idx'] * -1\n",
    "\n",
    "# re-scale variables\n",
    "balanced_df['nr.employed'] = np.log2(balanced_df['nr.employed']).astype('uint8')\n",
    "balanced_df['cons.price.idx'] = np.log2(balanced_df['cons.price.idx']).astype('uint8')\n",
    "balanced_df['cons.conf.idx'] = np.log2(balanced_df['cons.conf.idx']).astype('uint8')"
   ]
  },
  {
   "cell_type": "code",
   "execution_count": 39,
   "id": "8c9fe783",
   "metadata": {
    "execution": {
     "iopub.execute_input": "2022-08-26T11:48:41.964512Z",
     "iopub.status.busy": "2022-08-26T11:48:41.963118Z",
     "iopub.status.idle": "2022-08-26T11:48:41.973015Z",
     "shell.execute_reply": "2022-08-26T11:48:41.971565Z"
    },
    "id": "3Zn-__e76koa",
    "outputId": "fd9bb140-a46b-41f3-a804-45e29b562784",
    "papermill": {
     "duration": 0.039691,
     "end_time": "2022-08-26T11:48:41.975860",
     "exception": false,
     "start_time": "2022-08-26T11:48:41.936169",
     "status": "completed"
    },
    "tags": []
   },
   "outputs": [
    {
     "name": "stdout",
     "output_type": "stream",
     "text": [
      "X Columns:  ['age', 'job', 'marital', 'education', 'housing', 'loan', 'contact', 'month', 'day_of_week', 'duration', 'campaign', 'pdays', 'previous', 'poutcome', 'emp.var.rate', 'cons.price.idx', 'cons.conf.idx', 'euribor3m', 'nr.employed']\n"
     ]
    }
   ],
   "source": [
    "X_balanced_scaled = balanced_df.iloc[:,balanced_df.columns != 'y']\n",
    "y_balanced_scaled = balanced_df.y\n",
    "print(\"X Columns: \",list(X_balanced_scaled.columns))"
   ]
  },
  {
   "cell_type": "code",
   "execution_count": 40,
   "id": "ce4e899d",
   "metadata": {
    "execution": {
     "iopub.execute_input": "2022-08-26T11:48:42.029871Z",
     "iopub.status.busy": "2022-08-26T11:48:42.028563Z",
     "iopub.status.idle": "2022-08-26T11:48:44.226314Z",
     "shell.execute_reply": "2022-08-26T11:48:44.225176Z"
    },
    "id": "sPyUtsF16r2n",
    "outputId": "f9c07edf-ccc8-4962-b9ab-985061ed43fd",
    "papermill": {
     "duration": 2.228012,
     "end_time": "2022-08-26T11:48:44.229759",
     "exception": false,
     "start_time": "2022-08-26T11:48:42.001747",
     "status": "completed"
    },
    "tags": []
   },
   "outputs": [
    {
     "name": "stderr",
     "output_type": "stream",
     "text": [
      "/opt/conda/lib/python3.7/site-packages/sklearn/linear_model/_logistic.py:818: ConvergenceWarning: lbfgs failed to converge (status=1):\n",
      "STOP: TOTAL NO. of ITERATIONS REACHED LIMIT.\n",
      "\n",
      "Increase the number of iterations (max_iter) or scale the data as shown in:\n",
      "    https://scikit-learn.org/stable/modules/preprocessing.html\n",
      "Please also refer to the documentation for alternative solver options:\n",
      "    https://scikit-learn.org/stable/modules/linear_model.html#logistic-regression\n",
      "  extra_warning_msg=_LOGISTIC_SOLVER_CONVERGENCE_MSG,\n"
     ]
    },
    {
     "name": "stdout",
     "output_type": "stream",
     "text": [
      "Logistic Regression Report in test set\n",
      "              precision    recall  f1-score   support\n",
      "\n",
      "           0       0.85      0.82      0.83       766\n",
      "           1       0.83      0.86      0.84       778\n",
      "\n",
      "    accuracy                           0.84      1544\n",
      "   macro avg       0.84      0.84      0.84      1544\n",
      "weighted avg       0.84      0.84      0.84      1544\n",
      "\n",
      "[[626 140]\n",
      " [111 667]]\n",
      "          features       Coef\n",
      "11           pdays  30.097763\n",
      "2          marital  21.303519\n",
      "13        poutcome  17.940108\n",
      "3        education  10.661090\n",
      "8      day_of_week   7.438335\n",
      "18     nr.employed   3.545132\n",
      "1              job   2.153135\n",
      "15  cons.price.idx   2.067993\n",
      "4          housing   1.791159\n",
      "0              age   0.765773\n",
      "9         duration   0.631906\n",
      "14    emp.var.rate   0.177196\n",
      "6          contact  -1.090558\n",
      "5             loan  -1.263518\n",
      "10        campaign  -3.781118\n",
      "7            month  -3.886461\n",
      "12        previous  -8.665247\n",
      "16   cons.conf.idx -35.324966\n",
      "17       euribor3m -72.446572\n",
      "------------------------------------------------------\n",
      "Decision Tree Report in test set\n",
      "              precision    recall  f1-score   support\n",
      "\n",
      "           0       0.82      0.85      0.84       766\n",
      "           1       0.84      0.82      0.83       778\n",
      "\n",
      "    accuracy                           0.83      1544\n",
      "   macro avg       0.83      0.83      0.83      1544\n",
      "weighted avg       0.83      0.83      0.83      1544\n",
      "\n",
      "[[648 118]\n",
      " [138 640]]\n",
      "          features  importance\n",
      "9         duration   42.421340\n",
      "17       euribor3m   24.267722\n",
      "7            month    6.653245\n",
      "0              age    5.987701\n",
      "14    emp.var.rate    5.041660\n",
      "1              job    2.602149\n",
      "8      day_of_week    2.511734\n",
      "10        campaign    2.511633\n",
      "3        education    2.172151\n",
      "2          marital    1.227168\n",
      "5             loan    0.989185\n",
      "4          housing    0.837043\n",
      "11           pdays    0.815550\n",
      "12        previous    0.726904\n",
      "6          contact    0.524695\n",
      "16   cons.conf.idx    0.419311\n",
      "13        poutcome    0.290809\n",
      "15  cons.price.idx    0.000000\n",
      "18     nr.employed    0.000000\n",
      "------------------------------------------------------\n",
      "Random Forest Report in test set\n",
      "              precision    recall  f1-score   support\n",
      "\n",
      "           0       0.93      0.84      0.88       766\n",
      "           1       0.85      0.94      0.89       778\n",
      "\n",
      "    accuracy                           0.89      1544\n",
      "   macro avg       0.89      0.89      0.89      1544\n",
      "weighted avg       0.89      0.89      0.89      1544\n",
      "\n",
      "[[640 126]\n",
      " [ 47 731]]\n",
      "          features  importance\n",
      "9         duration   39.114427\n",
      "17       euribor3m   14.967885\n",
      "14    emp.var.rate    9.076969\n",
      "0              age    6.887622\n",
      "7            month    5.116231\n",
      "1              job    3.403359\n",
      "10        campaign    3.296483\n",
      "8      day_of_week    3.171812\n",
      "11           pdays    2.758305\n",
      "3        education    2.470163\n",
      "6          contact    1.772464\n",
      "13        poutcome    1.730997\n",
      "2          marital    1.708987\n",
      "12        previous    1.379671\n",
      "4          housing    1.307674\n",
      "16   cons.conf.idx    0.972682\n",
      "5             loan    0.864270\n",
      "15  cons.price.idx    0.000000\n",
      "18     nr.employed    0.000000\n",
      "------------------------------------------------------\n",
      "Gradient Boosting in test set\n",
      "              precision    recall  f1-score   support\n",
      "\n",
      "           0       0.92      0.84      0.88       766\n",
      "           1       0.85      0.93      0.89       778\n",
      "\n",
      "    accuracy                           0.88      1544\n",
      "   macro avg       0.89      0.88      0.88      1544\n",
      "weighted avg       0.89      0.88      0.88      1544\n",
      "\n",
      "[[640 126]\n",
      " [ 53 725]]\n",
      "          features  importance\n",
      "9         duration   54.974672\n",
      "17       euribor3m   25.522729\n",
      "14    emp.var.rate   10.482967\n",
      "7            month    4.383565\n",
      "11           pdays    1.653525\n",
      "0              age    0.706298\n",
      "10        campaign    0.521704\n",
      "6          contact    0.339147\n",
      "3        education    0.320213\n",
      "16   cons.conf.idx    0.294681\n",
      "12        previous    0.234525\n",
      "13        poutcome    0.192009\n",
      "8      day_of_week    0.186551\n",
      "1              job    0.116369\n",
      "2          marital    0.056666\n",
      "4          housing    0.009808\n",
      "5             loan    0.004570\n",
      "15  cons.price.idx    0.000000\n",
      "18     nr.employed    0.000000\n",
      "------------------------------------------------------\n",
      "K Neighbors in test set\n",
      "              precision    recall  f1-score   support\n",
      "\n",
      "           0       0.83      0.76      0.80       766\n",
      "           1       0.78      0.85      0.81       778\n",
      "\n",
      "    accuracy                           0.81      1544\n",
      "   macro avg       0.81      0.80      0.80      1544\n",
      "weighted avg       0.81      0.81      0.80      1544\n",
      "\n",
      "[[584 182]\n",
      " [119 659]]\n",
      "------------------------------------------------------\n"
     ]
    }
   ],
   "source": [
    "ML_training(X_balanced_scaled,y_balanced_scaled)"
   ]
  },
  {
   "cell_type": "markdown",
   "id": "991ef2f7",
   "metadata": {
    "id": "xWAp0_PM66sx",
    "papermill": {
     "duration": 0.026198,
     "end_time": "2022-08-26T11:48:44.282247",
     "exception": false,
     "start_time": "2022-08-26T11:48:44.256049",
     "status": "completed"
    },
    "tags": []
   },
   "source": [
    "* Scaled dataset does not improved the score. \n",
    "* Random Forest Classifer perform best so for. Let's build a model for Random Forest with some hyperparameters."
   ]
  },
  {
   "cell_type": "code",
   "execution_count": 41,
   "id": "73cabeb5",
   "metadata": {
    "execution": {
     "iopub.execute_input": "2022-08-26T11:48:44.335139Z",
     "iopub.status.busy": "2022-08-26T11:48:44.334734Z",
     "iopub.status.idle": "2022-08-26T11:48:44.344347Z",
     "shell.execute_reply": "2022-08-26T11:48:44.343208Z"
    },
    "id": "07HF0XeL-wPS",
    "papermill": {
     "duration": 0.038629,
     "end_time": "2022-08-26T11:48:44.346423",
     "exception": false,
     "start_time": "2022-08-26T11:48:44.307794",
     "status": "completed"
    },
    "tags": []
   },
   "outputs": [],
   "source": [
    "X_train, X_test, y_train, y_test = train_test_split(X_balanced,y_balanced, test_size = 0.20, random_state = 0)"
   ]
  },
  {
   "cell_type": "code",
   "execution_count": 42,
   "id": "f23a29d6",
   "metadata": {
    "execution": {
     "iopub.execute_input": "2022-08-26T11:48:44.398802Z",
     "iopub.status.busy": "2022-08-26T11:48:44.398381Z",
     "iopub.status.idle": "2022-08-26T11:48:44.407050Z",
     "shell.execute_reply": "2022-08-26T11:48:44.405638Z"
    },
    "id": "emSykxFXAiJz",
    "outputId": "f810223c-b1b5-4613-87a8-2fc71869a2e7",
    "papermill": {
     "duration": 0.037732,
     "end_time": "2022-08-26T11:48:44.409396",
     "exception": false,
     "start_time": "2022-08-26T11:48:44.371664",
     "status": "completed"
    },
    "tags": []
   },
   "outputs": [
    {
     "name": "stdout",
     "output_type": "stream",
     "text": [
      "{'n_estimators': [20, 65, 110, 155, 200], 'max_features': ['auto', 'sqrt'], 'max_depth': [1, 23, 45], 'min_samples_split': [5, 10]}\n"
     ]
    }
   ],
   "source": [
    "from sklearn.model_selection import RandomizedSearchCV\n",
    "from pprint import pprint\n",
    "\n",
    "# Number of trees in random forest\n",
    "n_estimators = [int(x) for x in np.linspace(start = 20, stop = 200, num = 5)]\n",
    "# Number of features to consider at every split\n",
    "max_features = ['auto', 'sqrt']\n",
    "# Maximum number of levels in tree\n",
    "max_depth = [int(x) for x in np.linspace(1, 45, num = 3)]\n",
    "# Minimum number of samples required to split a node\n",
    "min_samples_split = [5, 10]\n",
    "\n",
    "# Create the random grid\n",
    "random_grid = {'n_estimators': n_estimators,\n",
    "               'max_features': max_features,\n",
    "               'max_depth': max_depth,\n",
    "               'min_samples_split': min_samples_split}\n",
    "\n",
    "print(random_grid)"
   ]
  },
  {
   "cell_type": "code",
   "execution_count": 43,
   "id": "5c146844",
   "metadata": {
    "execution": {
     "iopub.execute_input": "2022-08-26T11:48:44.461843Z",
     "iopub.status.busy": "2022-08-26T11:48:44.461442Z",
     "iopub.status.idle": "2022-08-26T11:48:44.467580Z",
     "shell.execute_reply": "2022-08-26T11:48:44.466354Z"
    },
    "id": "RiA_pz9QAiWf",
    "papermill": {
     "duration": 0.035096,
     "end_time": "2022-08-26T11:48:44.469905",
     "exception": false,
     "start_time": "2022-08-26T11:48:44.434809",
     "status": "completed"
    },
    "tags": []
   },
   "outputs": [],
   "source": [
    "# Use the random grid to search for best hyperparameters\n",
    "rf = RandomForestClassifier(random_state=42)\n",
    "from sklearn.model_selection import GridSearchCV\n",
    "rf_Grid = GridSearchCV(estimator = rf, param_grid = random_grid, cv = 3, verbose=2, n_jobs = 4)"
   ]
  },
  {
   "cell_type": "code",
   "execution_count": 44,
   "id": "d5829fa5",
   "metadata": {
    "execution": {
     "iopub.execute_input": "2022-08-26T11:48:44.523234Z",
     "iopub.status.busy": "2022-08-26T11:48:44.522761Z",
     "iopub.status.idle": "2022-08-26T11:49:20.559557Z",
     "shell.execute_reply": "2022-08-26T11:49:20.558429Z"
    },
    "id": "W_lkcbccBR7g",
    "outputId": "65308864-40c7-4f64-c342-12219467a686",
    "papermill": {
     "duration": 36.091491,
     "end_time": "2022-08-26T11:49:20.587226",
     "exception": false,
     "start_time": "2022-08-26T11:48:44.495735",
     "status": "completed"
    },
    "tags": []
   },
   "outputs": [
    {
     "name": "stdout",
     "output_type": "stream",
     "text": [
      "Fitting 3 folds for each of 60 candidates, totalling 180 fits\n"
     ]
    },
    {
     "data": {
      "text/plain": [
       "GridSearchCV(cv=3, estimator=RandomForestClassifier(random_state=42), n_jobs=4,\n",
       "             param_grid={'max_depth': [1, 23, 45],\n",
       "                         'max_features': ['auto', 'sqrt'],\n",
       "                         'min_samples_split': [5, 10],\n",
       "                         'n_estimators': [20, 65, 110, 155, 200]},\n",
       "             verbose=2)"
      ]
     },
     "execution_count": 44,
     "metadata": {},
     "output_type": "execute_result"
    }
   ],
   "source": [
    "rf_Grid.fit(X_train, y_train)"
   ]
  },
  {
   "cell_type": "code",
   "execution_count": 45,
   "id": "8fb63d5a",
   "metadata": {
    "execution": {
     "iopub.execute_input": "2022-08-26T11:49:20.642475Z",
     "iopub.status.busy": "2022-08-26T11:49:20.641368Z",
     "iopub.status.idle": "2022-08-26T11:49:20.648169Z",
     "shell.execute_reply": "2022-08-26T11:49:20.647314Z"
    },
    "id": "K8tGnVwXB6MY",
    "outputId": "9b62bd31-95d4-46e9-d575-4c5ffeecbb7a",
    "papermill": {
     "duration": 0.036944,
     "end_time": "2022-08-26T11:49:20.650417",
     "exception": false,
     "start_time": "2022-08-26T11:49:20.613473",
     "status": "completed"
    },
    "tags": []
   },
   "outputs": [
    {
     "data": {
      "text/plain": [
       "{'max_depth': 45,\n",
       " 'max_features': 'auto',\n",
       " 'min_samples_split': 5,\n",
       " 'n_estimators': 155}"
      ]
     },
     "execution_count": 45,
     "metadata": {},
     "output_type": "execute_result"
    }
   ],
   "source": [
    "rf_Grid.best_params_"
   ]
  },
  {
   "cell_type": "code",
   "execution_count": 46,
   "id": "02c626f0",
   "metadata": {
    "execution": {
     "iopub.execute_input": "2022-08-26T11:49:20.705843Z",
     "iopub.status.busy": "2022-08-26T11:49:20.705183Z",
     "iopub.status.idle": "2022-08-26T11:49:22.025219Z",
     "shell.execute_reply": "2022-08-26T11:49:22.023925Z"
    },
    "id": "FZLu2n8XCape",
    "outputId": "d99abed3-13bf-47c1-c4a1-ae2628b16465",
    "papermill": {
     "duration": 1.350543,
     "end_time": "2022-08-26T11:49:22.028015",
     "exception": false,
     "start_time": "2022-08-26T11:49:20.677472",
     "status": "completed"
    },
    "tags": []
   },
   "outputs": [
    {
     "name": "stdout",
     "output_type": "stream",
     "text": [
      "Accuracy of Random Forest classifier on test set: 0.89\n"
     ]
    }
   ],
   "source": [
    "rf = RandomForestClassifier(n_estimators=155,max_depth=45, max_features=\"auto\", min_samples_split=5)\n",
    "rf.fit(X_train, y_train)\n",
    "y_pred = rf.predict(X_test)\n",
    "print('Accuracy of Random Forest classifier on test set: {:.2f}'.format(rf.score(X_test, y_test)))\n"
   ]
  },
  {
   "cell_type": "code",
   "execution_count": 47,
   "id": "ff0a10de",
   "metadata": {
    "execution": {
     "iopub.execute_input": "2022-08-26T11:49:22.083977Z",
     "iopub.status.busy": "2022-08-26T11:49:22.083292Z",
     "iopub.status.idle": "2022-08-26T11:49:22.096326Z",
     "shell.execute_reply": "2022-08-26T11:49:22.095387Z"
    },
    "id": "VgOLVVg7DRXl",
    "outputId": "c5d76b4a-4ae2-476a-edd0-d79dbd531d27",
    "papermill": {
     "duration": 0.043473,
     "end_time": "2022-08-26T11:49:22.098886",
     "exception": false,
     "start_time": "2022-08-26T11:49:22.055413",
     "status": "completed"
    },
    "tags": []
   },
   "outputs": [
    {
     "name": "stdout",
     "output_type": "stream",
     "text": [
      "Confusion Matrix:\n",
      " [[649 117]\n",
      " [ 50 728]]\n",
      "Classification Report:\n",
      "               precision    recall  f1-score   support\n",
      "\n",
      "           0       0.93      0.85      0.89       766\n",
      "           1       0.86      0.94      0.90       778\n",
      "\n",
      "    accuracy                           0.89      1544\n",
      "   macro avg       0.90      0.89      0.89      1544\n",
      "weighted avg       0.89      0.89      0.89      1544\n",
      "\n"
     ]
    }
   ],
   "source": [
    "from sklearn.metrics import confusion_matrix\n",
    "confusion_matrix = confusion_matrix(y_test, y_pred)\n",
    "print(\"Confusion Matrix:\\n\",confusion_matrix)\n",
    "print(\"Classification Report:\\n\",classification_report(y_test, y_pred))"
   ]
  },
  {
   "cell_type": "markdown",
   "id": "90d840c5",
   "metadata": {
    "id": "QmChHfLQDhLo",
    "papermill": {
     "duration": 0.026033,
     "end_time": "2022-08-26T11:49:22.151959",
     "exception": false,
     "start_time": "2022-08-26T11:49:22.125926",
     "status": "completed"
    },
    "tags": []
   },
   "source": [
    "The Confusion matrix result is telling us that we have 644+728 correct predictions and 50+122 incorrect predictions."
   ]
  },
  {
   "cell_type": "code",
   "execution_count": 48,
   "id": "f056230e",
   "metadata": {
    "execution": {
     "iopub.execute_input": "2022-08-26T11:49:22.206782Z",
     "iopub.status.busy": "2022-08-26T11:49:22.206088Z",
     "iopub.status.idle": "2022-08-26T11:49:22.527538Z",
     "shell.execute_reply": "2022-08-26T11:49:22.526646Z"
    },
    "id": "P-S8xF4REFJO",
    "outputId": "cb89688d-51a2-45aa-a6cb-bf415824f311",
    "papermill": {
     "duration": 0.351642,
     "end_time": "2022-08-26T11:49:22.529725",
     "exception": false,
     "start_time": "2022-08-26T11:49:22.178083",
     "status": "completed"
    },
    "tags": []
   },
   "outputs": [
    {
     "data": {
      "image/png": "[encoded data removed]",
      "text/plain": [
       "<Figure size 432x288 with 1 Axes>"
      ]
     },
     "metadata": {
      "needs_background": "light"
     },
     "output_type": "display_data"
    }
   ],
   "source": [
    "from sklearn.metrics import roc_auc_score\n",
    "from sklearn.metrics import roc_curve\n",
    "logit_roc_auc = roc_auc_score(y_test, rf.predict(X_test))\n",
    "fpr, tpr, thresholds = roc_curve(y_test, rf.predict_proba(X_test)[:,1])\n",
    "plt.figure()\n",
    "plt.plot(fpr, tpr, label='Random Forest Classfier (area = %0.2f)' % logit_roc_auc)\n",
    "plt.plot([0, 1], [0, 1],'r--')\n",
    "plt.xlim([-0.01, 1.0])\n",
    "plt.ylim([0.0, 1.05])\n",
    "plt.xlabel('False Positive Rate')\n",
    "plt.ylabel('True Positive Rate')\n",
    "plt.title('Receiver operating characteristic')\n",
    "plt.legend(loc=\"lower right\")\n",
    "plt.show()"
   ]
  },
  {
   "cell_type": "markdown",
   "id": "17fd9714",
   "metadata": {
    "id": "kDlhUsy08wE7",
    "papermill": {
     "duration": 0.02684,
     "end_time": "2022-08-26T11:49:22.583365",
     "exception": false,
     "start_time": "2022-08-26T11:49:22.556525",
     "status": "completed"
    },
    "tags": []
   },
   "source": [
    "### Feature importance with LOFO (Leave One Feature Out)"
   ]
  },
  {
   "cell_type": "markdown",
   "id": "e22065db",
   "metadata": {
    "id": "wKN1_MAN87Zs",
    "papermill": {
     "duration": 0.026324,
     "end_time": "2022-08-26T11:49:22.636611",
     "exception": false,
     "start_time": "2022-08-26T11:49:22.610287",
     "status": "completed"
    },
    "tags": []
   },
   "source": [
    "LOFO (Leave One Feature Out) Importance calculates the importances of a set of features based on a metric of choice, for a model of choice, by iteratively removing each feature from the set, and evaluating the performance of the model, with a validation scheme of choice, based on the chosen metric.\n",
    "\n",
    "LOFO first evaluates the performance of the model with all the input features included, then iteratively removes one feature at a time, retrains the model, and evaluates its performance on a validation set. The mean and standard deviation (across the folds) of the importance of each feature is then reported."
   ]
  },
  {
   "cell_type": "markdown",
   "id": "300bde50",
   "metadata": {
    "id": "clmuJUDr8-6C",
    "papermill": {
     "duration": 0.026795,
     "end_time": "2022-08-26T11:49:22.690165",
     "exception": false,
     "start_time": "2022-08-26T11:49:22.663370",
     "status": "completed"
    },
    "tags": []
   },
   "source": [
    "LOFO has several advantages compared to other importance types:\n",
    "\n",
    "* It does not favor granular features\n",
    "* It generalises well to unseen test sets\n",
    "* It is model agnostic\n",
    "* It gives negative importance to features that hurt performance upon inclusion\n",
    "* It can group the features. Especially useful for high dimensional features like TFIDF or OHE features.\n",
    "* It can automatically group highly correlated features to avoid underestimating their importance."
   ]
  },
  {
   "cell_type": "code",
   "execution_count": 49,
   "id": "800a1514",
   "metadata": {
    "execution": {
     "iopub.execute_input": "2022-08-26T11:49:22.746271Z",
     "iopub.status.busy": "2022-08-26T11:49:22.745802Z",
     "iopub.status.idle": "2022-08-26T11:49:35.943074Z",
     "shell.execute_reply": "2022-08-26T11:49:35.941618Z"
    },
    "id": "qv_iCa-e6twb",
    "outputId": "e34482f6-f786-4eba-caae-3ab7932aed11",
    "papermill": {
     "duration": 13.228803,
     "end_time": "2022-08-26T11:49:35.946201",
     "exception": false,
     "start_time": "2022-08-26T11:49:22.717398",
     "status": "completed"
    },
    "tags": []
   },
   "outputs": [
    {
     "name": "stdout",
     "output_type": "stream",
     "text": [
      "Collecting lofo-importance\r\n",
      "  Downloading lofo_importance-0.3.2-py3-none-any.whl (11 kB)\r\n",
      "Requirement already satisfied: scikit-learn>=0.20.3 in /opt/conda/lib/python3.7/site-packages (from lofo-importance) (1.0.2)\r\n",
      "Requirement already satisfied: scipy in /opt/conda/lib/python3.7/site-packages (from lofo-importance) (1.7.3)\r\n",
      "Requirement already satisfied: networkx in /opt/conda/lib/python3.7/site-packages (from lofo-importance) (2.5)\r\n",
      "Requirement already satisfied: lightgbm in /opt/conda/lib/python3.7/site-packages (from lofo-importance) (3.3.2)\r\n",
      "Requirement already satisfied: numpy>=1.17.3 in /opt/conda/lib/python3.7/site-packages (from lofo-importance) (1.21.6)\r\n",
      "Requirement already satisfied: pandas in /opt/conda/lib/python3.7/site-packages (from lofo-importance) (1.3.5)\r\n",
      "Requirement already satisfied: tqdm in /opt/conda/lib/python3.7/site-packages (from lofo-importance) (4.64.0)\r\n",
      "Requirement already satisfied: joblib>=0.11 in /opt/conda/lib/python3.7/site-packages (from scikit-learn>=0.20.3->lofo-importance) (1.0.1)\r\n",
      "Requirement already satisfied: threadpoolctl>=2.0.0 in /opt/conda/lib/python3.7/site-packages (from scikit-learn>=0.20.3->lofo-importance) (3.1.0)\r\n",
      "Requirement already satisfied: wheel in /opt/conda/lib/python3.7/site-packages (from lightgbm->lofo-importance) (0.37.1)\r\n",
      "Requirement already satisfied: decorator>=4.3.0 in /opt/conda/lib/python3.7/site-packages (from networkx->lofo-importance) (5.1.1)\r\n",
      "Requirement already satisfied: python-dateutil>=2.7.3 in /opt/conda/lib/python3.7/site-packages (from pandas->lofo-importance) (2.8.2)\r\n",
      "Requirement already satisfied: pytz>=2017.3 in /opt/conda/lib/python3.7/site-packages (from pandas->lofo-importance) (2022.1)\r\n",
      "Requirement already satisfied: six>=1.5 in /opt/conda/lib/python3.7/site-packages (from python-dateutil>=2.7.3->pandas->lofo-importance) (1.15.0)\r\n",
      "Installing collected packages: lofo-importance\r\n",
      "Successfully installed lofo-importance-0.3.2\r\n",
      "\u001b[33mWARNING: Running pip as the 'root' user can result in broken permissions and conflicting behaviour with the system package manager. It is recommended to use a virtual environment instead: https://pip.pypa.io/warnings/venv\u001b[0m\u001b[33m\r\n",
      "\u001b[0m"
     ]
    }
   ],
   "source": [
    "!pip install lofo-importance"
   ]
  },
  {
   "cell_type": "code",
   "execution_count": 50,
   "id": "3e059d55",
   "metadata": {
    "execution": {
     "iopub.execute_input": "2022-08-26T11:49:36.005857Z",
     "iopub.status.busy": "2022-08-26T11:49:36.005362Z",
     "iopub.status.idle": "2022-08-26T11:49:37.536010Z",
     "shell.execute_reply": "2022-08-26T11:49:37.534741Z"
    },
    "id": "grrzlF-w8uE9",
    "outputId": "84c8531e-29e4-4c89-ed02-d9b4f4a6e862",
    "papermill": {
     "duration": 1.564115,
     "end_time": "2022-08-26T11:49:37.539508",
     "exception": false,
     "start_time": "2022-08-26T11:49:35.975393",
     "status": "completed"
    },
    "tags": []
   },
   "outputs": [
    {
     "name": "stderr",
     "output_type": "stream",
     "text": [
      "/opt/conda/lib/python3.7/site-packages/lofo/lofo_importance.py:3: TqdmExperimentalWarning: Using `tqdm.autonotebook.tqdm` in notebook mode. Use `tqdm.tqdm` instead to force console mode (e.g. in jupyter console)\n",
      "  from tqdm.autonotebook import tqdm\n"
     ]
    },
    {
     "data": {
      "text/html": [
       "<style type='text/css'>\n",
       ".datatable table.frame { margin-bottom: 0; }\n",
       ".datatable table.frame thead { border-bottom: none; }\n",
       ".datatable table.frame tr.coltypes td {  color: #FFFFFF;  line-height: 6px;  padding: 0 0.5em;}\n",
       ".datatable .bool    { background: #DDDD99; }\n",
       ".datatable .object  { background: #565656; }\n",
       ".datatable .int     { background: #5D9E5D; }\n",
       ".datatable .float   { background: #4040CC; }\n",
       ".datatable .str     { background: #CC4040; }\n",
       ".datatable .time    { background: #40CC40; }\n",
       ".datatable .row_index {  background: var(--jp-border-color3);  border-right: 1px solid var(--jp-border-color0);  color: var(--jp-ui-font-color3);  font-size: 9px;}\n",
       ".datatable .frame tbody td { text-align: left; }\n",
       ".datatable .frame tr.coltypes .row_index {  background: var(--jp-border-color0);}\n",
       ".datatable th:nth-child(2) { padding-left: 12px; }\n",
       ".datatable .hellipsis {  color: var(--jp-cell-editor-border-color);}\n",
       ".datatable .vellipsis {  background: var(--jp-layout-color0);  color: var(--jp-cell-editor-border-color);}\n",
       ".datatable .na {  color: var(--jp-cell-editor-border-color);  font-size: 80%;}\n",
       ".datatable .sp {  opacity: 0.25;}\n",
       ".datatable .footer { font-size: 9px; }\n",
       ".datatable .frame_dimensions {  background: var(--jp-border-color3);  border-top: 1px solid var(--jp-border-color0);  color: var(--jp-ui-font-color3);  display: inline-block;  opacity: 0.6;  padding: 1px 10px 1px 5px;}\n",
       "</style>\n"
      ],
      "text/plain": [
       "<IPython.core.display.HTML object>"
      ]
     },
     "metadata": {},
     "output_type": "display_data"
    }
   ],
   "source": [
    "from sklearn.model_selection import KFold\n",
    "from lofo import LOFOImportance, Dataset, plot_importance"
   ]
  },
  {
   "cell_type": "code",
   "execution_count": 51,
   "id": "8e1778ec",
   "metadata": {
    "execution": {
     "iopub.execute_input": "2022-08-26T11:49:37.603991Z",
     "iopub.status.busy": "2022-08-26T11:49:37.603224Z",
     "iopub.status.idle": "2022-08-26T11:49:50.621767Z",
     "shell.execute_reply": "2022-08-26T11:49:50.620477Z"
    },
    "id": "uRnm77uU9HF_",
    "outputId": "d08f296f-67fd-4af9-d6eb-01839130983c",
    "papermill": {
     "duration": 13.052386,
     "end_time": "2022-08-26T11:49:50.625454",
     "exception": false,
     "start_time": "2022-08-26T11:49:37.573068",
     "status": "completed"
    },
    "tags": []
   },
   "outputs": [
    {
     "data": {
      "application/vnd.jupyter.widget-view+json": {
       "model_id": "c86dfa49e8314f9a95544a54275c1157",
       "version_major": 2,
       "version_minor": 0
      },
      "text/plain": [
       "  0%|          | 0/19 [00:00<?, ?it/s]"
      ]
     },
     "metadata": {},
     "output_type": "display_data"
    },
    {
     "data": {
      "image/png": "[encoded data removed]",
      "text/plain": [
       "<Figure size 864x1440 with 1 Axes>"
      ]
     },
     "metadata": {
      "needs_background": "light"
     },
     "output_type": "display_data"
    }
   ],
   "source": [
    "\n",
    "cv = KFold(n_splits=4, shuffle=True, random_state=0)\n",
    "\n",
    "# define the binary target and the features\n",
    "dataset = Dataset(df=balanced_df, target=\"y\", features=[col for col in balanced_df.columns if col != \"y\"])\n",
    "\n",
    "# define the validation scheme and scorer. The default model is LightGBM\n",
    "lofo_imp = LOFOImportance(dataset, cv=cv, scoring=\"roc_auc\")\n",
    "\n",
    "# get the mean and standard deviation of the importances in pandas format\n",
    "importance_df = lofo_imp.get_importance()\n",
    "\n",
    "# plot the means and standard deviations of the importances\n",
    "plot_importance(importance_df, figsize=(12, 20))"
   ]
  },
  {
   "cell_type": "code",
   "execution_count": null,
   "id": "c7f09180",
   "metadata": {
    "id": "zz-WurIB9g6x",
    "papermill": {
     "duration": 0.028439,
     "end_time": "2022-08-26T11:49:50.683233",
     "exception": false,
     "start_time": "2022-08-26T11:49:50.654794",
     "status": "completed"
    },
    "tags": []
   },
   "outputs": [],
   "source": []
  }
 ],
 "metadata": {
  "kernelspec": {
   "display_name": "Python 3",
   "language": "python",
   "name": "python3"
  },
  "language_info": {
   "codemirror_mode": {
    "name": "ipython",
    "version": 3
   },
   "file_extension": ".py",
   "mimetype": "text/x-python",
   "name": "python",
   "nbconvert_exporter": "python",
   "pygments_lexer": "ipython3",
   "version": "3.7.12"
  },
  "papermill": {
   "default_parameters": {},
   "duration": 103.584757,
   "end_time": "2022-08-26T11:49:53.333891",
   "environment_variables": {},
   "exception": null,
   "input_path": "__notebook__.ipynb",
   "output_path": "__notebook__.ipynb",
   "parameters": {},
   "start_time": "2022-08-26T11:48:09.749134",
   "version": "2.3.4"
  },
  "widgets": {
   "application/vnd.jupyter.widget-state+json": {
    "state": {
     "11e7a67adb14444a918736a6c93ffe01": {
      "model_module": "@jupyter-widgets/base",
      "model_module_version": "1.2.0",
      "model_name": "LayoutModel",
      "state": {
       "_model_module": "@jupyter-widgets/base",
       "_model_module_version": "1.2.0",
       "_model_name": "LayoutModel",
       "_view_count": null,
       "_view_module": "@jupyter-widgets/base",
       "_view_module_version": "1.2.0",
       "_view_name": "LayoutView",
       "align_content": null,
       "align_items": null,
       "align_self": null,
       "border": null,
       "bottom": null,
       "display": null,
       "flex": null,
       "flex_flow": null,
       "grid_area": null,
       "grid_auto_columns": null,
       "grid_auto_flow": null,
       "grid_auto_rows": null,
       "grid_column": null,
       "grid_gap": null,
       "grid_row": null,
       "grid_template_areas": null,
       "grid_template_columns": null,
       "grid_template_rows": null,
       "height": null,
       "justify_content": null,
       "justify_items": null,
       "left": null,
       "margin": null,
       "max_height": null,
       "max_width": null,
       "min_height": null,
       "min_width": null,
       "object_fit": null,
       "object_position": null,
       "order": null,
       "overflow": null,
       "overflow_x": null,
       "overflow_y": null,
       "padding": null,
       "right": null,
       "top": null,
       "visibility": null,
       "width": null
      }
     },
     "1d86c0126e6444a8b7c6d3fd47e2fc61": {
      "model_module": "@jupyter-widgets/controls",
      "model_module_version": "1.5.0",
      "model_name": "DescriptionStyleModel",
      "state": {
       "_model_module": "@jupyter-widgets/controls",
       "_model_module_version": "1.5.0",
       "_model_name": "DescriptionStyleModel",
       "_view_count": null,
       "_view_module": "@jupyter-widgets/base",
       "_view_module_version": "1.2.0",
       "_view_name": "StyleView",
       "description_width": ""
      }
     },
     "3874aad386814f47a1da94ee19ea1d18": {
      "model_module": "@jupyter-widgets/controls",
      "model_module_version": "1.5.0",
      "model_name": "ProgressStyleModel",
      "state": {
       "_model_module": "@jupyter-widgets/controls",
       "_model_module_version": "1.5.0",
       "_model_name": "ProgressStyleModel",
       "_view_count": null,
       "_view_module": "@jupyter-widgets/base",
       "_view_module_version": "1.2.0",
       "_view_name": "StyleView",
       "bar_color": null,
       "description_width": ""
      }
     },
     "5e262b89d8264476a7eb4f70ae82becb": {
      "model_module": "@jupyter-widgets/controls",
      "model_module_version": "1.5.0",
      "model_name": "HTMLModel",
      "state": {
       "_dom_classes": [],
       "_model_module": "@jupyter-widgets/controls",
       "_model_module_version": "1.5.0",
       "_model_name": "HTMLModel",
       "_view_count": null,
       "_view_module": "@jupyter-widgets/controls",
       "_view_module_version": "1.5.0",
       "_view_name": "HTMLView",
       "description": "",
       "description_tooltip": null,
       "layout": "IPY_MODEL_dc01ab414800495d84f7e8eab5143302",
       "placeholder": "​",
       "style": "IPY_MODEL_a52ca58afc244ae485467d4ff70d9cae",
       "value": "100%"
      }
     },
     "65597f2b816144bbba1baf9bfa526a3c": {
      "model_module": "@jupyter-widgets/base",
      "model_module_version": "1.2.0",
      "model_name": "LayoutModel",
      "state": {
       "_model_module": "@jupyter-widgets/base",
       "_model_module_version": "1.2.0",
       "_model_name": "LayoutModel",
       "_view_count": null,
       "_view_module": "@jupyter-widgets/base",
       "_view_module_version": "1.2.0",
       "_view_name": "LayoutView",
       "align_content": null,
       "align_items": null,
       "align_self": null,
       "border": null,
       "bottom": null,
       "display": null,
       "flex": null,
       "flex_flow": null,
       "grid_area": null,
       "grid_auto_columns": null,
       "grid_auto_flow": null,
       "grid_auto_rows": null,
       "grid_column": null,
       "grid_gap": null,
       "grid_row": null,
       "grid_template_areas": null,
       "grid_template_columns": null,
       "grid_template_rows": null,
       "height": null,
       "justify_content": null,
       "justify_items": null,
       "left": null,
       "margin": null,
       "max_height": null,
       "max_width": null,
       "min_height": null,
       "min_width": null,
       "object_fit": null,
       "object_position": null,
       "order": null,
       "overflow": null,
       "overflow_x": null,
       "overflow_y": null,
       "padding": null,
       "right": null,
       "top": null,
       "visibility": null,
       "width": null
      }
     },
     "69099e86032f463a9c330b16cf7e5d3a": {
      "model_module": "@jupyter-widgets/controls",
      "model_module_version": "1.5.0",
      "model_name": "FloatProgressModel",
      "state": {
       "_dom_classes": [],
       "_model_module": "@jupyter-widgets/controls",
       "_model_module_version": "1.5.0",
       "_model_name": "FloatProgressModel",
       "_view_count": null,
       "_view_module": "@jupyter-widgets/controls",
       "_view_module_version": "1.5.0",
       "_view_name": "ProgressView",
       "bar_style": "success",
       "description": "",
       "description_tooltip": null,
       "layout": "IPY_MODEL_11e7a67adb14444a918736a6c93ffe01",
       "max": 19.0,
       "min": 0.0,
       "orientation": "horizontal",
       "style": "IPY_MODEL_3874aad386814f47a1da94ee19ea1d18",
       "value": 19.0
      }
     },
     "a52ca58afc244ae485467d4ff70d9cae": {
      "model_module": "@jupyter-widgets/controls",
      "model_module_version": "1.5.0",
      "model_name": "DescriptionStyleModel",
      "state": {
       "_model_module": "@jupyter-widgets/controls",
       "_model_module_version": "1.5.0",
       "_model_name": "DescriptionStyleModel",
       "_view_count": null,
       "_view_module": "@jupyter-widgets/base",
       "_view_module_version": "1.2.0",
       "_view_name": "StyleView",
       "description_width": ""
      }
     },
     "a91a8ab810ed452a9957b2e3d159cc41": {
      "model_module": "@jupyter-widgets/base",
      "model_module_version": "1.2.0",
      "model_name": "LayoutModel",
      "state": {
       "_model_module": "@jupyter-widgets/base",
       "_model_module_version": "1.2.0",
       "_model_name": "LayoutModel",
       "_view_count": null,
       "_view_module": "@jupyter-widgets/base",
       "_view_module_version": "1.2.0",
       "_view_name": "LayoutView",
       "align_content": null,
       "align_items": null,
       "align_self": null,
       "border": null,
       "bottom": null,
       "display": null,
       "flex": null,
       "flex_flow": null,
       "grid_area": null,
       "grid_auto_columns": null,
       "grid_auto_flow": null,
       "grid_auto_rows": null,
       "grid_column": null,
       "grid_gap": null,
       "grid_row": null,
       "grid_template_areas": null,
       "grid_template_columns": null,
       "grid_template_rows": null,
       "height": null,
       "justify_content": null,
       "justify_items": null,
       "left": null,
       "margin": null,
       "max_height": null,
       "max_width": null,
       "min_height": null,
       "min_width": null,
       "object_fit": null,
       "object_position": null,
       "order": null,
       "overflow": null,
       "overflow_x": null,
       "overflow_y": null,
       "padding": null,
       "right": null,
       "top": null,
       "visibility": null,
       "width": null
      }
     },
     "c86dfa49e8314f9a95544a54275c1157": {
      "model_module": "@jupyter-widgets/controls",
      "model_module_version": "1.5.0",
      "model_name": "HBoxModel",
      "state": {
       "_dom_classes": [],
       "_model_module": "@jupyter-widgets/controls",
       "_model_module_version": "1.5.0",
       "_model_name": "HBoxModel",
       "_view_count": null,
       "_view_module": "@jupyter-widgets/controls",
       "_view_module_version": "1.5.0",
       "_view_name": "HBoxView",
       "box_style": "",
       "children": [
        "IPY_MODEL_5e262b89d8264476a7eb4f70ae82becb",
        "IPY_MODEL_69099e86032f463a9c330b16cf7e5d3a",
        "IPY_MODEL_fda212772a33401a98b2f5ea6557b0ac"
       ],
       "layout": "IPY_MODEL_65597f2b816144bbba1baf9bfa526a3c"
      }
     },
     "dc01ab414800495d84f7e8eab5143302": {
      "model_module": "@jupyter-widgets/base",
      "model_module_version": "1.2.0",
      "model_name": "LayoutModel",
      "state": {
       "_model_module": "@jupyter-widgets/base",
       "_model_module_version": "1.2.0",
       "_model_name": "LayoutModel",
       "_view_count": null,
       "_view_module": "@jupyter-widgets/base",
       "_view_module_version": "1.2.0",
       "_view_name": "LayoutView",
       "align_content": null,
       "align_items": null,
       "align_self": null,
       "border": null,
       "bottom": null,
       "display": null,
       "flex": null,
       "flex_flow": null,
       "grid_area": null,
       "grid_auto_columns": null,
       "grid_auto_flow": null,
       "grid_auto_rows": null,
       "grid_column": null,
       "grid_gap": null,
       "grid_row": null,
       "grid_template_areas": null,
       "grid_template_columns": null,
       "grid_template_rows": null,
       "height": null,
       "justify_content": null,
       "justify_items": null,
       "left": null,
       "margin": null,
       "max_height": null,
       "max_width": null,
       "min_height": null,
       "min_width": null,
       "object_fit": null,
       "object_position": null,
       "order": null,
       "overflow": null,
       "overflow_x": null,
       "overflow_y": null,
       "padding": null,
       "right": null,
       "top": null,
       "visibility": null,
       "width": null
      }
     },
     "fda212772a33401a98b2f5ea6557b0ac": {
      "model_module": "@jupyter-widgets/controls",
      "model_module_version": "1.5.0",
      "model_name": "HTMLModel",
      "state": {
       "_dom_classes": [],
       "_model_module": "@jupyter-widgets/controls",
       "_model_module_version": "1.5.0",
       "_model_name": "HTMLModel",
       "_view_count": null,
       "_view_module": "@jupyter-widgets/controls",
       "_view_module_version": "1.5.0",
       "_view_name": "HTMLView",
       "description": "",
       "description_tooltip": null,
       "layout": "IPY_MODEL_a91a8ab810ed452a9957b2e3d159cc41",
       "placeholder": "​",
       "style": "IPY_MODEL_1d86c0126e6444a8b7c6d3fd47e2fc61",
       "value": " 19/19 [00:11&lt;00:00,  1.56it/s]"
      }
     }
    },
    "version_major": 2,
    "version_minor": 0
   }
  }
 },
 "nbformat": 4,
 "nbformat_minor": 5
}
